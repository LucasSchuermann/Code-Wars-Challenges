{
 "cells": [
  {
   "cell_type": "code",
   "execution_count": 6,
   "id": "b84a4f4f-a85e-4d71-8284-f260d1a0ca41",
   "metadata": {},
   "outputs": [
    {
     "name": "stdout",
     "output_type": "stream",
     "text": [
      "olleH dlroW yolo \n"
     ]
    }
   ],
   "source": [
    "def spin_words(sentence):\n",
    "    splitted = sentence.split(' ')\n",
    "    final =iiiiii \"\"\n",
    "    for word in splitted:\n",
    "        if len(word)>4:\n",
    "            word=word[::-1]\n",
    "        final+=word+\" \"\n",
    "    return final\n",
    "\n",
    "print(spin_words(\"Hello World yolo\"))"
   ]
  },
  {
   "cell_type": "code",
   "execution_count": 2,
   "id": "42c91c48-03d4-4992-9f6d-854e10c2165d",
   "metadata": {},
   "outputs": [
    {
     "data": {
      "text/plain": [
       "8"
      ]
     },
     "execution_count": 2,
     "metadata": {},
     "output_type": "execute_result"
    }
   ],
   "source": [
    "import re\n",
    "\n",
    "def duplicate_count(text):\n",
    "    # Your code goes here\n",
    "    text = text.lower()\n",
    "    final = ''.join(sorted(text))\n",
    "    pattern = re.compile(r'([a-zA-Z])\\1+')\n",
    "    return len(re.findall(pattern,final))\n",
    "\n",
    "duplicate_count(\"abasjasdkjhkjahjsahdjashdjaseeeeeeeeeeeeeeeeeeeeeeeeeeeeeeeeeeeeeeehdjsjdB\")"
   ]
  },
  {
   "cell_type": "code",
   "execution_count": 101,
   "id": "52770f41-fd0a-4c0d-86fa-2ef96e93c1c9",
   "metadata": {},
   "outputs": [
    {
     "name": "stdout",
     "output_type": "stream",
     "text": [
      "['Ryan']\n"
     ]
    }
   ],
   "source": [
    "def friend(x):\n",
    "    return [f for f in x if len(f)==4]\n",
    "\n",
    "print(friend([\"Ryan\", \"Jimmy\", \"123\", \"4\", \"Cool Man\"]))"
   ]
  },
  {
   "cell_type": "code",
   "execution_count": 120,
   "id": "5993a7c5-241f-4896-8fb0-8545225dbe38",
   "metadata": {},
   "outputs": [
    {
     "data": {
      "text/plain": [
       "True"
      ]
     },
     "execution_count": 120,
     "metadata": {},
     "output_type": "execute_result"
    }
   ],
   "source": [
    "import re\n",
    "def validate_pin(pin):\n",
    "    #return true or false\n",
    "    pattern = re.compile(r'(\\d{4}|\\d{6})')\n",
    "    if re.findall(pattern,pin) != 0:\n",
    "        return True\n",
    "    else:\n",
    "        return False\n",
    "    \n",
    "validate_pin('1234\\n')"
   ]
  },
  {
   "cell_type": "code",
   "execution_count": 122,
   "id": "63cabefd-0ab5-4e25-bd54-82871a5d67e1",
   "metadata": {},
   "outputs": [
    {
     "data": {
      "text/plain": [
       "10"
      ]
     },
     "execution_count": 122,
     "metadata": {},
     "output_type": "execute_result"
    }
   ],
   "source": [
    "def find_uniq(arr):\n",
    "    # your code here\n",
    "    arr = sorted(arr)\n",
    "    if arr[0] != arr[1]:\n",
    "        return arr[0]\n",
    "    else:\n",
    "        return arr[len(arr)-1]\n",
    "    return n   # n: unique number in the array\n",
    "\n",
    "find_uniq([ 3, 10, 3, 3, 3 ])"
   ]
  },
  {
   "cell_type": "code",
   "execution_count": 124,
   "id": "9769d6d7-fa50-4582-975e-39c7ef0d2a22",
   "metadata": {},
   "outputs": [
    {
     "data": {
      "text/plain": [
       "[1, 2, 1, 1, 3, 1, 0, 0, 0, 0]"
      ]
     },
     "execution_count": 124,
     "metadata": {},
     "output_type": "execute_result"
    }
   ],
   "source": [
    "def move_zeros(array):\n",
    "    zero_arr = [n for n in array if n == 0]\n",
    "    array = [n for n in array if n != 0]\n",
    "    return array + zero_arr\n",
    "move_zeros([1, 2, 0, 1, 0, 1, 0, 3, 0, 1])"
   ]
  },
  {
   "cell_type": "code",
   "execution_count": 152,
   "id": "365bff6c-6862-425e-b7aa-6a3d4c2f2ab7",
   "metadata": {},
   "outputs": [
    {
     "data": {
      "text/plain": [
       "0"
      ]
     },
     "execution_count": 152,
     "metadata": {},
     "output_type": "execute_result"
    }
   ],
   "source": [
    "def cakes(recipe, available):\n",
    "    return min([available[ingredient]//recipe[ingredient] if ingredient in available else 0 for ingredient in recipe])\n",
    "\n",
    "cakes({\"apples\": 3, \"flour\": 300, \"sugar\": 150, \"milk\": 100, \"oil\": 100},{\"sugar\": 500, \"flour\": 2000, \"milk\": 2000})"
   ]
  },
  {
   "cell_type": "code",
   "execution_count": 155,
   "id": "6ab9f86a-7202-4b07-9f81-eff2842328f4",
   "metadata": {},
   "outputs": [
    {
     "data": {
      "text/plain": [
       "True"
      ]
     },
     "execution_count": 155,
     "metadata": {},
     "output_type": "execute_result"
    }
   ],
   "source": [
    "def comp(array1, array2):\n",
    "    square = True\n",
    "    for i in array2:\n",
    "        if not i**0.5 in array1:\n",
    "            square = False\n",
    "    return square\n",
    "\n",
    "a1 = [121, 144, 19, 161, 19, 144, 19, 11]\n",
    "a2 = [11*11, 121*121, 144*144, 19*19, 161*161, 19*19, 144*144, 19*19]\n",
    "comp(a1,a2)"
   ]
  },
  {
   "cell_type": "code",
   "execution_count": 1,
   "id": "159842b0-81eb-4987-9368-82af5a157e8b",
   "metadata": {},
   "outputs": [
    {
     "data": {
      "text/plain": [
       "'yoloswag'"
      ]
     },
     "execution_count": 1,
     "metadata": {},
     "output_type": "execute_result"
    }
   ],
   "source": [
    "import re\n",
    "def domain_name(url):\n",
    "    pattern = re.compile(r'(https?://)?(www.)?(\\w+)(.\\w+)')\n",
    "    return (re.findall(pattern,url))[0][2]\n",
    "\n",
    "domain_name(\"www.yoloswag.com\")\n",
    "\n",
    "#test.assert_equals(domain_name(\"http://www.google.com\"), \"google\")\n",
    "#test.assert_equals(domain_name(\"http://google.co.jp\"), \"google\")\n",
    "#test.assert_equals(domain_name(\"www.xakep.ru\"), \"xakep\")\n",
    "#test.assert_equals(domain_name(\"https://youtube.com\"), \"youtube\")"
   ]
  },
  {
   "cell_type": "code",
   "execution_count": 3,
   "id": "fcecce66-d480-4536-b7be-209edeef2d1a",
   "metadata": {
    "tags": []
   },
   "outputs": [
    {
     "name": "stdout",
     "output_type": "stream",
     "text": [
      "[['w', 'h', 'i'], ['t', 's', 'u'], ['a', 't', 's'], ['h', 'a', 'p'], ['t', 'i', 's'], ['w', 'h', 's']]\n",
      "fall 1  tsup ['t', 's', 'u']\n",
      "fall 2  atsup ['a', 't', 's']\n",
      "fall 2  hatsup ['h', 'a', 'p']\n",
      "fall 1  hatisup ['t', 'i', 's']\n",
      "fall 2  whatisup ['w', 'h', 's']\n"
     ]
    },
    {
     "data": {
      "text/plain": [
       "'whatisup'"
      ]
     },
     "execution_count": 3,
     "metadata": {},
     "output_type": "execute_result"
    }
   ],
   "source": [
    "import re\n",
    "import random\n",
    "\n",
    "def recoverSecret(triplets):\n",
    "    final_word_len=len(set([elem for sublist in triplets for elem in sublist]))\n",
    "    result = \"\"\n",
    "    result= result.join(triplets.pop(0))\n",
    "    counter = 0\n",
    "    while len(result)!=final_word_len and counter < 100:\n",
    "        for tmp in triplets:\n",
    "            index_1 = result.find(tmp[0])\n",
    "            index_2 = result.find(tmp[1])\n",
    "            index_3 = result.find(tmp[2])\n",
    "            if index_1 == index_3-1:\n",
    "                result = result[:index_3]+tmp[1]+result[index_3:]\n",
    "                print(\"fall 1 \",result,tmp)\n",
    "            elif index_2 == 0 and index_1==-1:\n",
    "                result = result[:index_2]+tmp[0]+result[index_2:]\n",
    "                print(\"fall 2 \",result,tmp)\n",
    "            elif index_2 == len(result)-1 and index_3==-1:\n",
    "                result = result[:index_2+1]+tmp[2]+result[index_2+1:]\n",
    "                print(\"fall 3 \",result,tmp)\n",
    "            else:\n",
    "                print(triplets)\n",
    "                counter+=1     \n",
    "\n",
    "\n",
    "            \n",
    "    return  result\n",
    "\n",
    "secret = \"whatisup\"\n",
    "triplets = [\n",
    "  ['t','u','p'],\n",
    "  ['w','h','i'],\n",
    "  ['t','s','u'],\n",
    "  ['a','t','s'],\n",
    "  ['h','a','p'],\n",
    "  ['t','i','s'],\n",
    "  ['w','h','s']\n",
    "]\n",
    "#random.shuffle(triplets)\n",
    "recoverSecret(triplets)"
   ]
  },
  {
   "cell_type": "code",
   "execution_count": null,
   "id": "37c6f3f2-5947-4635-b8e8-000de7d7878b",
   "metadata": {},
   "outputs": [],
   "source": [
    "# TODO: complete this class\n",
    "\n",
    "class PaginationHelper:\n",
    "\n",
    "  # The constructor takes in an array of items and a integer indicating\n",
    "  # how many items fit within a single page\n",
    "  def __init__(self, collection, items_per_page):\n",
    "      \n",
    "  \n",
    "  # returns the number of items within the entire collection\n",
    "  def item_count(self):\n",
    "      \n",
    "  \n",
    "  # returns the number of pages\n",
    "  def page_count(self):\n",
    "      \n",
    "\t\n",
    "  # returns the number of items on the current page. page_index is zero based\n",
    "  # this method should return -1 for page_index values that are out of range\n",
    "  def page_item_count(self,page_index):\n",
    "      "
   ]
  },
  {
   "cell_type": "code",
   "execution_count": 41,
   "id": "293f50c5-5724-4f23-8a46-cdb8e43f6fec",
   "metadata": {},
   "outputs": [
    {
     "data": {
      "text/plain": [
       "100"
      ]
     },
     "execution_count": 41,
     "metadata": {},
     "output_type": "execute_result"
    }
   ],
   "source": [
    "import numpy as np\n",
    "from collections import Counter\n",
    "def score(dice):\n",
    "    finalscore = 0\n",
    "    npdice = np.array(dice)\n",
    "    triplets = [item for item, count in Counter(npdice).items() if count >= 3]    \n",
    "    for triple in triplets:\n",
    "        if triple == 1:\n",
    "            finalscore += 1000\n",
    "        elif triple == 2:\n",
    "            finalscore += 200\n",
    "        elif triple == 3:\n",
    "            finalscore += 300\n",
    "        elif triple == 4:\n",
    "            finalscore += 400\n",
    "        elif triple == 5:\n",
    "            finalscore += 500\n",
    "        elif triple == 6:\n",
    "            finalscore += 600\n",
    "        \n",
    "    fives = [count for item, count in Counter(npdice).items() if item == 5]\n",
    "    ones = [count for item, count in Counter(npdice).items() if item == 1]\n",
    "    if fives and fives[0] >= 4:\n",
    "        fives[0] = fives[0]-3\n",
    "    if ones and ones[0] >= 4:\n",
    "        ones[0] = ones[0]-3\n",
    "    \n",
    "    for five in fives:\n",
    "        finalscore += 50\n",
    "    for one in ones:\n",
    "        finalscore += 100\n",
    "    \n",
    "    \n",
    "    return finalscore\n",
    "    \n",
    "throw = [ 1, 1 ]\n",
    "score(throw)\n",
    "#test.assert_equals( score( [2, 3, 4, 6, 2] ), 0)\n",
    "#test.assert_equals( score(  [4, 4, 4, 3, 3] ), 400)\n",
    "#test.assert_equals( score(  [2, 4, 4, 5, 4] ), 450)"
   ]
  },
  {
   "cell_type": "markdown",
   "id": "5e52f85b-f3e3-4c46-9128-358f24d2f61f",
   "metadata": {},
   "source": [
    "## Upstream/Downstream\n",
    "https://www.codewars.com/kata/58162692c2a518f03a000189/train/python"
   ]
  },
  {
   "cell_type": "code",
   "execution_count": 76,
   "id": "561d8b2b-2502-4cd0-8a1b-f5b47cb925a2",
   "metadata": {},
   "outputs": [
    {
     "data": {
      "text/plain": [
       "2.0"
      ]
     },
     "execution_count": 76,
     "metadata": {},
     "output_type": "execute_result"
    }
   ],
   "source": [
    "import re\n",
    "def time(distance,boat_speed,stream):\n",
    "    streamd = 0\n",
    "    patternNum = \"\\d+\"\n",
    "    patternLetter = \"^[A-Z]\"\n",
    "    num = int(re.findall(patternNum,stream)[0])\n",
    "    letter = re.findall(patternLetter,stream)[0]\n",
    "    \n",
    "    if letter == 'D':\n",
    "        streamd = 1\n",
    "    elif letter == 'U':\n",
    "        streamd = -1\n",
    "    \n",
    "    return round(distance / (boat_speed + streamd * num),2)\n",
    "\n",
    "\n",
    "time(24,10,\"Downstream 2\")"
   ]
  },
  {
   "cell_type": "markdown",
   "id": "e06759ca-3ca5-4159-8506-d7006aeb3c48",
   "metadata": {},
   "source": [
    "## up AND down\n",
    "https://www.codewars.com/kata/56cac350145912e68b0006f0/train/python"
   ]
  },
  {
   "cell_type": "code",
   "execution_count": 102,
   "id": "54eed9e6-8014-4aa1-b252-c8def9089cb3",
   "metadata": {},
   "outputs": [
    {
     "data": {
      "text/plain": [
       "'who RETAINING hit THAT a THE we TAKEN'"
      ]
     },
     "execution_count": 102,
     "metadata": {},
     "output_type": "execute_result"
    }
   ],
   "source": [
    "def arrange(strng):\n",
    "    # your code\n",
    "    splitted = strng.split(\" \")\n",
    "    for index in range(len(splitted)-1):\n",
    "        if index % 2 == 0:\n",
    "            if len(splitted[index]) > len(splitted[index+1]):\n",
    "                tmp = splitted[index]\n",
    "                splitted[index] = splitted[index+1]\n",
    "                splitted[index+1] = tmp\n",
    "            splitted[index] = splitted[index].lower()\n",
    "        if index % 2 == 1:\n",
    "            if len(splitted[index]) < len(splitted[index+1]):\n",
    "                tmp = splitted[index]\n",
    "                splitted[index] = splitted[index+1]\n",
    "                splitted[index+1] = tmp\n",
    "            splitted[index] = splitted[index].upper()\n",
    "        if len(splitted) % 2 == 0:\n",
    "            splitted[len(splitted)-1] = splitted[len(splitted)-1].upper()\n",
    "        else: splitted[len(splitted)-1] = splitted[len(splitted)-1].lower()\n",
    "    return \" \".join(splitted)\n",
    "    \n",
    "    \n",
    "arrange(\"who hit retaining The That a we taken\")"
   ]
  },
  {
   "cell_type": "markdown",
   "id": "d46cc83c-81a3-46f1-9790-4f830ae6ecc3",
   "metadata": {},
   "source": [
    "## Valid Parentheses\n",
    "https://www.codewars.com/kata/52774a314c2333f0a7000688/train/python"
   ]
  },
  {
   "cell_type": "code",
   "execution_count": 6,
   "id": "e1c7760e-5abc-42de-bccc-db6365f5282b",
   "metadata": {},
   "outputs": [
    {
     "data": {
      "text/plain": [
       "False"
      ]
     },
     "execution_count": 6,
     "metadata": {},
     "output_type": "execute_result"
    }
   ],
   "source": [
    "def valid_parentheses(string):\n",
    "    #your code here\n",
    "    parentheses_test = 0\n",
    "    for char in string:\n",
    "        if char == '(':\n",
    "            parentheses_test += 1\n",
    "        elif char == ')':\n",
    "            parentheses_test -= 1\n",
    "        if parentheses_test < 0:\n",
    "            return False\n",
    "            \n",
    "    return True if parentheses_test == 0 else False\n",
    "valid_parentheses(\"hi())(\")"
   ]
  },
  {
   "cell_type": "code",
   "execution_count": 24,
   "id": "f171f0f0-41ba-41ce-b717-bf0edb685cf8",
   "metadata": {},
   "outputs": [
    {
     "data": {
      "text/plain": [
       "2385"
      ]
     },
     "execution_count": 24,
     "metadata": {},
     "output_type": "execute_result"
    }
   ],
   "source": [
    "class CustomInt(int):\n",
    "    def __call__(self, v):\n",
    "        return CustomInt(self + v)\n",
    "  \n",
    "def add(v):\n",
    "    return CustomInt(v)\n",
    "\n",
    "\n",
    "  \n",
    "# __call__ method will be called\n",
    "add(9)(3)(39)(2334)"
   ]
  },
  {
   "cell_type": "markdown",
   "id": "561938ba-18a3-4c18-bc8f-4c1c2cb5f06b",
   "metadata": {},
   "source": [
    "## Strip Comments\n",
    "https://www.codewars.com/kata/51c8e37cee245da6b40000bd/train/python"
   ]
  },
  {
   "cell_type": "code",
   "execution_count": null,
   "id": "a9d07da4-531c-44ac-9bb8-13600334c3eb",
   "metadata": {},
   "outputs": [],
   "source": [
    "import re\n",
    "def strip_comments(strng, markers):\n",
    "    \n",
    "    \n",
    "solution('apples, pears # and bananas\\ngrapes\\nbananas !apples', ['#', '!'])"
   ]
  },
  {
   "cell_type": "markdown",
   "id": "350a3a9a-e415-48f9-817d-79d2f4e9cfd3",
   "metadata": {},
   "source": [
    "## Omnibool"
   ]
  },
  {
   "cell_type": "code",
   "execution_count": 113,
   "id": "8908b75c-12f4-4124-89e2-7028600df8a6",
   "metadata": {},
   "outputs": [
    {
     "name": "stdout",
     "output_type": "stream",
     "text": [
      "True\n",
      "True\n"
     ]
    }
   ],
   "source": [
    "class OverloadEQ:\n",
    "    def __eq__(self,b):\n",
    "        return True       \n",
    "\n",
    "\n",
    "omnibool = OverloadEQ() # this variable needs your wizard magic!\n",
    "if (omnibool==False): print(\"True\")\n",
    "if (omnibool==True): print(\"True\")"
   ]
  },
  {
   "cell_type": "code",
   "execution_count": 128,
   "id": "7fa9be7b-f9bd-45ab-b85a-a2f8f06eee03",
   "metadata": {},
   "outputs": [
    {
     "name": "stdout",
     "output_type": "stream",
     "text": [
      "False\n"
     ]
    }
   ],
   "source": [
    "#import sys\n",
    "class Auto:\n",
    "    def __init__(self, b,c):\n",
    "        self.TürAnz = b\n",
    "        self.RadAnz = c\n",
    "    \n",
    "    def __eq__(self,car):\n",
    "        if self.TürAnz == car.TürAnz and self.RadAnz == car.RadAnz:\n",
    "            return True\n",
    "        else: return False\n",
    "        \n",
    "car = Auto(4,6)\n",
    "car2 = Auto(4,4)\n",
    "print(car == car2)\n",
    "    \n",
    "            "
   ]
  },
  {
   "cell_type": "markdown",
   "id": "34c90197-f7f8-4200-8290-8a7d30d75cab",
   "metadata": {},
   "source": [
    "## Cancer Cells\n",
    "https://www.codewars.com/kata/5931614bb2f657c18c0001c3/train/python"
   ]
  },
  {
   "cell_type": "code",
   "execution_count": 7,
   "id": "339fc6df-3106-4758-a50d-25049c5185bf",
   "metadata": {},
   "outputs": [
    {
     "data": {
      "text/plain": [
       "'abbu'"
      ]
     },
     "execution_count": 7,
     "metadata": {},
     "output_type": "execute_result"
    }
   ],
   "source": [
    "import re\n",
    "def cut_cancer_cells(organism):\n",
    "    pattern = [\"[a-z]?C+[a-z]?\",\"c*\"]\n",
    "    for r in pattern:\n",
    "        organism = re.sub(r, '', organism)\n",
    "    return organism\n",
    "\n",
    "cut_cancer_cells(\"abcCabuzC\")"
   ]
  },
  {
   "cell_type": "markdown",
   "id": "2e6ba06b-c4bb-4c12-b668-e015fb97c9da",
   "metadata": {},
   "source": [
    "## Hashtag Generator \n",
    "https://www.codewars.com/kata/5931614bb2f657c18c0001c3/train/python"
   ]
  },
  {
   "cell_type": "code",
   "execution_count": 3,
   "id": "56a733e8-5eae-4fa3-bbce-40ae516b13ca",
   "metadata": {},
   "outputs": [
    {
     "data": {
      "text/plain": [
       "'#FranciCacca'"
      ]
     },
     "execution_count": 3,
     "metadata": {},
     "output_type": "execute_result"
    }
   ],
   "source": [
    "import re\n",
    "def generate_hashtag(s):     \n",
    "    hashtag = \"#\"\n",
    "    pattern = \"[a-z|\\d|A-Z]+\"\n",
    "    \n",
    "    matches = re.findall(pattern,s)\n",
    "    for match in matches:\n",
    "        hashtag += match.capitalize()\n",
    "    return False if (len(s)==0 or len(hashtag)>=140) else hashtag\n",
    "generate_hashtag(\"Franci cacca\")"
   ]
  },
  {
   "cell_type": "markdown",
   "id": "9246ad5a-3521-4520-974a-604e54ca6813",
   "metadata": {},
   "source": [
    "## parseInt() reloaded\n",
    "https://www.codewars.com/kata/525c7c5ab6aecef16e0001a5/train/python"
   ]
  },
  {
   "cell_type": "code",
   "execution_count": 1,
   "id": "a6fc685d-9efe-42e2-84f0-cb348768e3b7",
   "metadata": {},
   "outputs": [
    {
     "name": "stdout",
     "output_type": "stream",
     "text": [
      "[2, 1000, 6, 100, 40, 5]\n"
     ]
    },
    {
     "data": {
      "text/plain": [
       "2645"
      ]
     },
     "execution_count": 1,
     "metadata": {},
     "output_type": "execute_result"
    }
   ],
   "source": [
    "import re\n",
    "def parse_int(string):\n",
    "    digits = {\"one\":1, \"two\":2, \"three\":3, \"four\":4, \"five\":5, \"six\":6, \"seven\":7, \"eight\":8, \"nine\":9}\n",
    "    teens = {\"ten\":10, \"eleven\":11, \"twelve\":12, \"thirteen\":13, \"fourteen\":14, \"fifteen\":15, \"sixteen\":16, \"seventeen\":17, \"eighteen\":18, \"nineteen\":19}\n",
    "    decade = {\"twenty\":20, \"thirty\":30, \"forty\":40, \"fifty\":50, \"sixty\":60, \"seventy\":70, \"eighty\":80, \"ninety\":90}\n",
    "    special = {\"hundred\":100, \"thousand\":1000}\n",
    "    numbers = digits|teens|decade|special\n",
    "    number = 0\n",
    "    subarrays = []\n",
    "    if string == \"zero\": return 0\n",
    "    if string == \"one million\": return 1000000\n",
    "    pattern = \" and |\\s|-\"\n",
    "    number_parts_text = re.split(pattern, string)\n",
    "    number_parts = []\n",
    "    for n in number_parts_text:\n",
    "        if n in numbers:\n",
    "            number_parts.append(numbers[n])\n",
    "    print(number_parts)\n",
    "    \n",
    "    if 1000 in number_parts:\n",
    "        subarrays.append([num for num in number_parts[:number_parts.index(1000)]])\n",
    "        number_parts = number_parts[number_parts.index(1000)+1:]\n",
    "        if len(subarrays[0]) == 0:\n",
    "            number = 1\n",
    "        elif 100 in subarrays[0]:\n",
    "            tmp = 1\n",
    "            for hun in subarrays[0][:subarrays[0].index(100)+1]:\n",
    "                tmp *= hun\n",
    "            number += tmp \n",
    "            subarrays[0] = subarrays[0][subarrays[0].index(100)+1:]\n",
    "        for num in subarrays[0]:\n",
    "            number += num\n",
    "        number *= 1000\n",
    "    if 100 in number_parts:\n",
    "        tmp = 1\n",
    "        for hun in number_parts[:number_parts.index(100)+1]:\n",
    "            tmp *= hun\n",
    "        number += tmp\n",
    "        number_parts = number_parts[number_parts.index(100)+1:]\n",
    "    for num in number_parts:\n",
    "        number += num\n",
    "    return number #number\n",
    "parse_int(\"two thousand six hundred forty five\")"
   ]
  },
  {
   "cell_type": "markdown",
   "id": "ed4144bd-f57e-4cfe-92f0-66afd2da8827",
   "metadata": {},
   "source": [
    "## Scramblies\n",
    "https://www.codewars.com/kata/55c04b4cc56a697bb0000048/train/python"
   ]
  },
  {
   "cell_type": "code",
   "execution_count": 1,
   "id": "871159f4-1d8b-4880-b676-dff9bd58bd52",
   "metadata": {},
   "outputs": [
    {
     "data": {
      "text/plain": [
       "True"
      ]
     },
     "execution_count": 1,
     "metadata": {},
     "output_type": "execute_result"
    }
   ],
   "source": [
    "def scramble(s1, s2):\n",
    "    x = s2\n",
    "    for letter in s1:\n",
    "        if letter in s1: x = x.replace(letter,'',1)\n",
    "        if len(x) == 0: return True\n",
    "    return False\n",
    "scramble('rkqodlw', 'wokrld')"
   ]
  },
  {
   "cell_type": "code",
   "execution_count": 13,
   "id": "d77e09a7-eae0-47fe-b2bd-adaf5b75349f",
   "metadata": {},
   "outputs": [
    {
     "data": {
      "text/plain": [
       "False"
      ]
     },
     "execution_count": 13,
     "metadata": {},
     "output_type": "execute_result"
    }
   ],
   "source": [
    "def scramble(s1, s2):\n",
    "    if len(s1)<len(s2): return False\n",
    "    difference = [char for char in s2 if char not in s1]\n",
    "    return True if len(difference) == 0 else False\n",
    "scramble('rorldw', 'woerld')"
   ]
  },
  {
   "cell_type": "markdown",
   "id": "acf5651d-e05b-4cf2-980f-1d5f5b880244",
   "metadata": {},
   "source": [
    "## Matrix Determinant\n",
    "https://www.codewars.com/kata/52a382ee44408cea2500074c/train/python"
   ]
  },
  {
   "cell_type": "code",
   "execution_count": 1,
   "id": "58449366-2fa0-405c-a326-a85f26a29992",
   "metadata": {
    "tags": []
   },
   "outputs": [
    {
     "name": "stdout",
     "output_type": "stream",
     "text": [
      "[[ 1 -2  6  1]\n",
      " [ 0  2  1  3]\n",
      " [ 2 -4  6  4]\n",
      " [ 0  0  3  2]]\n",
      "[[ 2  1  3]\n",
      " [-4  6  4]\n",
      " [ 0  3  2]]\n",
      "[[6 4]\n",
      " [3 2]]\n",
      "Det  =   0\n",
      "[[-4  4]\n",
      " [ 0  2]]\n",
      "Det  =   -8\n",
      "[[-4  6]\n",
      " [ 0  3]]\n",
      "Det  =   -12\n",
      "[[0 1 3]\n",
      " [2 6 4]\n",
      " [0 3 2]]\n",
      "[[6 4]\n",
      " [3 2]]\n",
      "Det  =   0\n",
      "[[2 4]\n",
      " [0 2]]\n",
      "Det  =   4\n",
      "[[2 6]\n",
      " [0 3]]\n",
      "Det  =   6\n",
      "[[ 0  2  3]\n",
      " [ 2 -4  4]\n",
      " [ 0  0  2]]\n",
      "[[-4  4]\n",
      " [ 0  2]]\n",
      "Det  =   -8\n",
      "[[2 4]\n",
      " [0 2]]\n",
      "Det  =   4\n",
      "[[ 2 -4]\n",
      " [ 0  0]]\n",
      "Det  =   0\n",
      "[[ 0  2  1]\n",
      " [ 2 -4  6]\n",
      " [ 0  0  3]]\n",
      "[[-4  6]\n",
      " [ 0  3]]\n",
      "Det  =   -12\n",
      "[[2 6]\n",
      " [0 3]]\n",
      "Det  =   6\n",
      "[[ 2 -4]\n",
      " [ 0  0]]\n",
      "Det  =   0\n"
     ]
    },
    {
     "data": {
      "text/plain": [
       "-36"
      ]
     },
     "execution_count": 1,
     "metadata": {},
     "output_type": "execute_result"
    }
   ],
   "source": [
    "import numpy as np\n",
    "# Author: Lugen\n",
    "def determinant(matrix):\n",
    "    matrix_np = np.array(matrix)\n",
    "    print(matrix_np)\n",
    "    if matrix_np.shape == (1, 1):\n",
    "        return matrix_np[0][0]\n",
    "    elif matrix_np.shape == (2, 2):\n",
    "        #a*d - b*c\n",
    "        print(\"Det  =  \" , matrix_np[0][0]*matrix_np[1][1] - matrix_np[0][1]*matrix_np[1][0])\n",
    "        return matrix_np[0][0]*matrix_np[1][1] - matrix_np[0][1]*matrix_np[1][0]\n",
    "    else:\n",
    "        det = 0\n",
    "        sign = True\n",
    "        for num_index in range(len(matrix_np[0])):\n",
    "            minor_tmp = np.delete(matrix_np, num_index, 1)\n",
    "            minor = np.delete(minor_tmp, 0,0)\n",
    "            if sign: \n",
    "                det += matrix_np[0][num_index] * determinant(minor)\n",
    "                sign = False\n",
    "            else: \n",
    "                det -= matrix_np[0][num_index] * determinant(minor)\n",
    "                sign = True\n",
    "        return det\n",
    "        \n",
    "    \n",
    "determinant([[1,-2,6,1],[0,2,1,3],[2,-4,6,4],[0,0,3,2]])"
   ]
  },
  {
   "cell_type": "markdown",
   "id": "9101d278-b709-4294-a0a5-89b96749e7f9",
   "metadata": {},
   "source": [
    "## Rail Fence Cipher: Encoding and Decoding \n",
    "https://www.codewars.com/kata/58c5577d61aefcf3ff000081/train/python"
   ]
  },
  {
   "cell_type": "code",
   "execution_count": 4,
   "id": "513a0e19-8194-43d1-8e74-184dee485905",
   "metadata": {},
   "outputs": [
    {
     "name": "stdout",
     "output_type": "stream",
     "text": [
      "yrnao\n",
      "DECODED :  yaron\n"
     ]
    }
   ],
   "source": [
    "def get_pedding_per_lane(lanes, padding_count):\n",
    "    counter_bool = True\n",
    "    counter = 0\n",
    "    lane_padding = []\n",
    "    for lane in range(lanes): lane_padding.append(0)\n",
    "    for char_index in range(padding_count):\n",
    "        lane_padding[counter] += 1\n",
    "        if counter_bool: \n",
    "            counter += 1\n",
    "            if counter == lanes-1: counter_bool = False\n",
    "        else:\n",
    "            counter -= 1\n",
    "            if counter == 0: counter_bool = True\n",
    "    return lane_padding\n",
    "            \n",
    "def encode_rail_fence_cipher(string, n):\n",
    "    counter_bool = True\n",
    "    counter = 0\n",
    "    rails = []\n",
    "    for rail in range(n): rails.append(\"\")\n",
    "    if len(string) == 0: return ''\n",
    "    for char_index in range(len(string)):\n",
    "        rails[counter] += string[char_index]\n",
    "        if counter_bool: \n",
    "            counter += 1\n",
    "            if counter == n-1: counter_bool = False\n",
    "        else:\n",
    "            counter -= 1\n",
    "            if counter == 0: counter_bool = True\n",
    "    return ''.join(rails)\n",
    "def decode_rail_fence_cipher(string, n):\n",
    "    words_per_lane = len(string)//(2*(n-1))\n",
    "    padding_count = len(string)%(2*(n-1))\n",
    "    counter_bool = True\n",
    "    counter = 0\n",
    "    encoded = string\n",
    "    decoded = \"\"\n",
    "    rails = []\n",
    "    padding_per_lane = get_pedding_per_lane(n, padding_count)\n",
    "    for rail in range(n): rails.append(\"\")\n",
    "\n",
    "    for rail in range(n):\n",
    "        if rail == 0 or rail == n-1: \n",
    "                rails[rail] += encoded[:words_per_lane+padding_per_lane[rail]]\n",
    "                encoded = encoded[words_per_lane+padding_per_lane[rail]:]        \n",
    "        else:\n",
    "            rails[rail] += encoded[:words_per_lane*2+padding_per_lane[rail]]\n",
    "            encoded = encoded[words_per_lane*2+padding_per_lane[rail]:]                \n",
    "    for char_index in range(len(string)):        \n",
    "        rails[counter] += string[char_index]\n",
    "        decoded += rails[counter][:1]\n",
    "        rails[counter] = rails[counter][1:]\n",
    "        if counter_bool: \n",
    "            counter += 1\n",
    "            if counter == n-1: counter_bool = False\n",
    "        else:\n",
    "            counter -= 1\n",
    "            if counter == 0: counter_bool = True        \n",
    "    return decoded\n",
    "\n",
    "        \n",
    "        \n",
    "plain = \"yaron\"    \n",
    "cipher = encode_rail_fence_cipher(plain, 2)\n",
    "    \n",
    "print(cipher)\n",
    "\n",
    "print(\"DECODED : \",decode_rail_fence_cipher(cipher, 2))\n",
    "\n",
    "#if plain == decode_rail_fence_cipher(cipher, 4): print(\"TRUE\")\n",
    "    "
   ]
  },
  {
   "cell_type": "code",
   "execution_count": 15,
   "id": "2c093269-d56f-47ba-8334-99fe44de2d6a",
   "metadata": {},
   "outputs": [
    {
     "data": {
      "text/plain": [
       "1024"
      ]
     },
     "execution_count": 15,
     "metadata": {},
     "output_type": "execute_result"
    }
   ],
   "source": [
    "2**10\n"
   ]
  },
  {
   "cell_type": "markdown",
   "id": "9b623e32-7c7f-4857-a6b7-8a92c53606fe",
   "metadata": {},
   "source": [
    "# Ceasar Chiffre\n"
   ]
  },
  {
   "cell_type": "code",
   "execution_count": 1,
   "id": "eeb423f6-f1e9-4f13-abe7-a0681fb5ffcd",
   "metadata": {
    "tags": []
   },
   "outputs": [
    {
     "name": "stdout",
     "output_type": "stream",
     "text": [
      "Qfzwf\n",
      "Laura\n"
     ]
    }
   ],
   "source": [
    "alphabet = \"abcdefghijklmnopqrstuvwxyz\"\n",
    "upperAlphabet = \"ABCDEFGHIJKLMNOPQRSTUVWXYZ\"\n",
    "key = 5\n",
    "plaintext = \"Laura\"\n",
    "\n",
    "ciphertext = [alphabet[(alphabet.index(i)+key)%26] if i in alphabet else i for i in plaintext]\n",
    "ciphertext = [upperAlphabet[(upperAlphabet.index(i)+key)%26] if i in upperAlphabet else i for i in ciphertext]\n",
    "\n",
    "decoded = [alphabet[(alphabet.index(i)-key)%26] if i in alphabet else i for i in ciphertext]\n",
    "decoded = [upperAlphabet[(upperAlphabet.index(i)-key)%26] if i in upperAlphabet else i for i in decoded]\n",
    "\n",
    "\n",
    "print(\"\".join(ciphertext))\n",
    "print(\"\".join(decoded))\n",
    "\n"
   ]
  },
  {
   "cell_type": "markdown",
   "id": "0c203951-aa0b-4758-9cd0-46d79dabee6e",
   "metadata": {},
   "source": [
    "# Square into Square. Protect Trees!\n",
    "\n",
    "https://www.codewars.com/kata/54eb33e5bc1a25440d000891/train/python"
   ]
  },
  {
   "cell_type": "code",
   "execution_count": 17,
   "id": "0826050b-2cec-4d3f-950d-49e37959d017",
   "metadata": {},
   "outputs": [
    {
     "name": "stdout",
     "output_type": "stream",
     "text": [
      "[1, 2, 3, 4, 5, 6, 7, 8, 9, 10]\n"
     ]
    }
   ],
   "source": [
    "import numpy\n",
    "def decompose(n):\n",
    "    possible_numbers = [i+1 for i in range(n-1)]\n",
    "    area = n*n\n",
    "    print(possible_numbers)\n",
    "    for i in range(n-1):\n",
    "        pass\n",
    "    \n",
    "\n",
    "decompose(11)"
   ]
  },
  {
   "cell_type": "code",
   "execution_count": 22,
   "id": "edfa9cdd-61c7-4ff8-9307-da017849171f",
   "metadata": {},
   "outputs": [
    {
     "name": "stdout",
     "output_type": "stream",
     "text": [
      "11\n"
     ]
    }
   ],
   "source": [
    "n = 4\n",
    "fact = 1\n",
    "  \n",
    "for i in range(1,n+1):\n",
    "    fact = fact + i\n",
    "    \n",
    "print(fact)"
   ]
  },
  {
   "cell_type": "markdown",
   "id": "ec098881-75a8-44e5-a62d-620e60b59fb4",
   "metadata": {},
   "source": [
    "# Barista Problem\n",
    "https://www.codewars.com/kata/6167e70fc9bd9b00565ffa4e/train/python"
   ]
  },
  {
   "cell_type": "code",
   "execution_count": 66,
   "id": "27361dc4-681d-49e0-8afc-2e5a10ab5104",
   "metadata": {},
   "outputs": [
    {
     "data": {
      "text/plain": [
       "22"
      ]
     },
     "execution_count": 66,
     "metadata": {},
     "output_type": "execute_result"
    }
   ],
   "source": [
    "def barista(coffees):\n",
    "    coffees.sort()\n",
    "    iter_time = 0\n",
    "    total_time = []\n",
    "    for index in range(len(coffees)):\n",
    "        if index == 0: \n",
    "            iter_time += coffees[index]\n",
    "            total_time.append(iter_time)\n",
    "        else:\n",
    "            iter_time += 2 + coffees[index]\n",
    "            total_time.append(iter_time)\n",
    "            \n",
    "    return sum(total_time)\n",
    "\n",
    "#'Sorry, but the smallest waiting time possible is:'\n",
    "\n",
    "barista([4,3,2])"
   ]
  },
  {
   "cell_type": "markdown",
   "id": "0ee6db63-6f88-4b3c-8b70-0c6f49e76677",
   "metadata": {},
   "source": [
    "# Barista Manager\n",
    "\n",
    "https://www.codewars.com/kata/624f3171c0da4c000f4b801d/train/python"
   ]
  },
  {
   "cell_type": "code",
   "execution_count": 114,
   "id": "c49d14d5-7f91-41f2-bbc5-600d9381f03a",
   "metadata": {},
   "outputs": [
    {
     "name": "stdout",
     "output_type": "stream",
     "text": [
      "[[], [], [0, 0], [1]]\n",
      "0\n",
      "0\n",
      "2\n",
      "1\n"
     ]
    },
    {
     "data": {
      "text/plain": [
       "3"
      ]
     },
     "execution_count": 114,
     "metadata": {},
     "output_type": "execute_result"
    }
   ],
   "source": [
    "def find_lowest(arrys):\n",
    "    arrysen = enumerate(arrys)\n",
    "    lowest = (0,0)\n",
    "    for index, arr in arrysen:\n",
    "        if lowest[1] == 0: lowest = (index, arr)\n",
    "        elif sum(lowest[1]) >= sum(arr): lowest = (index, arr)  \n",
    "    return lowest[0]\n",
    "\n",
    "def barista_(coffees):\n",
    "    coffees.sort()\n",
    "    iter_time = 0\n",
    "    total_time = []\n",
    "    for index in range(len(coffees)):\n",
    "        if index == 0: \n",
    "            iter_time += coffees[index]\n",
    "            total_time.append(iter_time)\n",
    "        else:\n",
    "            iter_time += 2 + coffees[index]\n",
    "            total_time.append(iter_time)\n",
    "            \n",
    "    return sum(total_time)\n",
    "def barista(coffees, c_machines):\n",
    "    coffees = sorted(coffees)\n",
    "    machines = []\n",
    "    minimum_time = 0\n",
    "    for i in range(c_machines):\n",
    "        machines.append([])\n",
    "\n",
    "    while len(coffees) > 0:\n",
    "        machines[find_lowest(machines)].append(coffees.pop(-1))\n",
    "    print(machines)\n",
    "    for order in machines:\n",
    "        minimum_time += barista_(order)\n",
    "        print(barista_(order))\n",
    "    return minimum_time\n",
    "barista([1,0,0], 4)"
   ]
  },
  {
   "cell_type": "code",
   "execution_count": 102,
   "id": "ca9a9e4e-c66c-42cc-97ec-48f4f9963a33",
   "metadata": {},
   "outputs": [
    {
     "name": "stdout",
     "output_type": "stream",
     "text": [
      "[]\n",
      "[[3, 2], [4]]\n"
     ]
    }
   ],
   "source": [
    "def find_lowest(arrys):\n",
    "    arrysen = enumerate(arrys)\n",
    "    lowest = (0,0)\n",
    "    for index, arr in arrysen:\n",
    "        if lowest[1] == 0: lowest = (index, arr)\n",
    "        elif sum(lowest[1]) >= sum(arr): lowest = (index, arr)  \n",
    "    return lowest[0]\n",
    "\n",
    "def barista(coffees):\n",
    "    coffees.sort()\n",
    "    iter_time = 0\n",
    "    total_time = []\n",
    "    for index in range(len(coffees)):\n",
    "        if index == 0: \n",
    "            iter_time += coffees[index]\n",
    "            total_time.append(iter_time)\n",
    "        else:\n",
    "            iter_time += 2 + coffees[index]\n",
    "            total_time.append(iter_time)\n",
    "            \n",
    "    return sum(total_time)\n",
    "arr = sorted([2,3,4])\n",
    "machine_count = 2\n",
    "machines = []\n",
    "switch = True\n",
    "\n",
    "for i in range(machine_count):\n",
    "    machines.append([])\n",
    "\n",
    "while len(arr) > 0:\n",
    "    machines[find_lowest(machines)].append(arr.pop(-1))\n",
    "    \n",
    "print(arr)\n",
    "print(machines)"
   ]
  },
  {
   "attachments": {
    "011728d2-5741-4a2d-a688-2723b2c2292b.png": {
     "image/png": "[encoded data removed]"
    }
   },
   "cell_type": "markdown",
   "id": "a85eef79-d773-40c8-87c0-5d67404af273",
   "metadata": {},
   "source": [
    "# The Spider and the Fly (Jumping Spider)\n",
    "\n",
    "https://www.codewars.com/kata/5a30e7e9c5e28454790000c1/train/python\n",
    "\n",
    "![image.png](attachment:011728d2-5741-4a2d-a688-2723b2c2292b.png)"
   ]
  },
  {
   "cell_type": "code",
   "execution_count": 160,
   "id": "8983d92b-4b3f-46c7-a2cf-aae4e3126261",
   "metadata": {},
   "outputs": [
    {
     "data": {
      "text/plain": [
       "5"
      ]
     },
     "execution_count": 160,
     "metadata": {},
     "output_type": "execute_result"
    }
   ],
   "source": [
    "import math\n",
    "def spider_to_fly(spider, fly):\n",
    "    angle_dict =  {'A':0,'B':1,'C':2,'D':3,'E':4,'F':5,'G':6,'H':7,}\n",
    "    spider_coord = (angle_dict[spider[0]],int(spider[1]))\n",
    "    fly_coord = (angle_dict[fly[0]],int(fly[1]))\n",
    "    angle = ((spider_coord[0]-fly_coord[0])%8) * 45\n",
    "     \n",
    "    \n",
    "    if angle < 180:\n",
    "        return math.sqrt(spider_coord[1]**2+fly_coord[1]**2-2*spider_coord[1]*fly_coord[1]*math.cos(math.radians(angle)))\n",
    "    elif angle == 0:\n",
    "        return abs(spider_coord[1] - fly_coord[1])\n",
    "    elif angle == 180:\n",
    "        return spider_coord[1] + fly_coord[1]\n",
    "\n",
    "spider_to_fly(\"H2\", \"D3\")"
   ]
  },
  {
   "cell_type": "markdown",
   "id": "e89daacc-ced8-4068-b8a2-9d1967545ad9",
   "metadata": {},
   "source": [
    "# ROT13\n",
    "\n",
    "https://www.codewars.com/kata/530e15517bc88ac656000716/train/python"
   ]
  },
  {
   "cell_type": "code",
   "execution_count": 178,
   "id": "3ed9642e-e6c5-4966-b016-f927fa263516",
   "metadata": {},
   "outputs": [
    {
     "data": {
      "text/plain": [
       "'lByb'"
      ]
     },
     "execution_count": 178,
     "metadata": {},
     "output_type": "execute_result"
    }
   ],
   "source": [
    "import re\n",
    "\n",
    "def rot13(message):\n",
    "    alphabet = \"abcdefghijklmnopqrstuvwxyz\"\n",
    "    upperAlphabet = \"ABCDEFGHIJKLMNOPQRSTUVWXYZ\"\n",
    "    ciphertext = [alphabet[(alphabet.index(i)+13)%26] if i in alphabet else i for i in message]\n",
    "    ciphertext = [upperAlphabet[(upperAlphabet.index(i)+13)%26] if i in upperAlphabet else i for i in ciphertext]\n",
    "    return ''.join(ciphertext)\n",
    "\n",
    "rot13(\"yOlo\")"
   ]
  },
  {
   "cell_type": "markdown",
   "id": "e832d85d-ceb3-41bb-bbef-5ad805304398",
   "metadata": {},
   "source": [
    "# Smoke Signals\n",
    "\n",
    "https://www.codewars.com/kata/62a3855fcaec090025ed2a9a/train/python"
   ]
  },
  {
   "cell_type": "code",
   "execution_count": 20,
   "id": "0f80767c-9146-4a9a-b45d-6e6b25a6b14e",
   "metadata": {},
   "outputs": [
    {
     "data": {
      "text/plain": [
       "{'1': 'Ambush in the jungle',\n",
       " '4.3.4': 'Ambush in the jungle',\n",
       " '2.2': 'Orange army retreats',\n",
       " '6': 'Orange general goes on vacation',\n",
       " '9.3': 'Push into the mountains',\n",
       " '8.2.1': 'General assassinated'}"
      ]
     },
     "execution_count": 20,
     "metadata": {},
     "output_type": "execute_result"
    }
   ],
   "source": [
    "# days is a tuple containing the smoke signals and the events that occured\n",
    "# on a single day. Ex.\n",
    "# days = [\n",
    "#   ([\"4\",\"5.1\"],[\"Ambush in the jungle\",\"Orange army retreats\"]),\n",
    "#   ([\"4\",\"5.1\",\"3.2.1\"],[\"Tanks deployed\",\"Orange army retreats\",\"Ambush in the jungle\"]),\n",
    "#   ([\"5.1\"],[\"Orange army retreats\"])\n",
    "#]\n",
    "def remove_unambiguous_from_set(solution, sets):\n",
    "    pass\n",
    "            \n",
    "        \n",
    "    \n",
    "\n",
    "def add_unambiguous_signals_to_solution(solution,sets):\n",
    "    for day in sets:\n",
    "        for day2 in sets:\n",
    "            if day[0] != day2[0]:\n",
    "                tmp_inter_sign = day[0] & day2[0]\n",
    "                tmp_inter_mess = day[1] & day2[1]\n",
    "                tmp_diff_a_sign = day[0] - day2[0]\n",
    "                tmp_diff_a_mess = day[1] - day2[1]\n",
    "                if len(tmp_inter_sign) == 1 and len(tmp_inter_sign) == 1:\n",
    "                    solution[list(tmp_inter_sign)[0]] = list(tmp_inter_mess)[0]\n",
    "                if len(tmp_diff_a_sign) == 1 and len(tmp_diff_a_mess) == 1:\n",
    "                    solution[list(tmp_diff_a_sign)[0]] = list(tmp_diff_a_mess)[0]\n",
    "\n",
    "def decode_smoke_signals(days):\n",
    "    solution = {}\n",
    "    approximation_solution = {}\n",
    "    sets = []\n",
    "    for day in days:\n",
    "        sets.append([set(day[0]),set(day[1])])\n",
    "    \n",
    "    for day in days:\n",
    "        if len(day[0]) == 1: solution[day[0][0]] = day[1][0]\n",
    "    \n",
    "    add_unambiguous_signals_to_solution(solution,sets)\n",
    "    \n",
    "                    \n",
    "    return solution\n",
    "\n",
    "\n",
    "decode_smoke_signals(\n",
    "            [([\"8.2.1\",\"4.3.4\",\"1\"],[\"Ambush in the jungle\",\"General assassinated\",\"Ambush in the jungle\"]),\n",
    "            ([\"1\",\"2.2\",\"9.3\"],[\"Ambush in the jungle\",\"Orange army  retreats\",\"Push into the mountains\"]),\n",
    "            ([\"4.3.4\",\"6\"],[\"Ambush in the jungle\",\"Orange general goes on vacation\"]),\n",
    "            ([\"8.2.1\",\"9.3\",\"1\"],[\"Ambush in the jungle\",\"General assassinated\",\"Push into the mountains\"])]\n",
    "        )"
   ]
  },
  {
   "cell_type": "markdown",
   "id": "f66f3401-8610-46d5-a13e-f7a473f95756",
   "metadata": {},
   "source": [
    "# Isograms\n",
    "\n",
    "https://www.codewars.com/kata/54ba84be607a92aa900000f1/train/python"
   ]
  },
  {
   "cell_type": "code",
   "execution_count": 6,
   "id": "09b11bfc-903c-4ff2-aa6f-a52f51129f25",
   "metadata": {},
   "outputs": [
    {
     "data": {
      "text/plain": [
       "True"
      ]
     },
     "execution_count": 6,
     "metadata": {},
     "output_type": "execute_result"
    }
   ],
   "source": [
    "def is_isogram(string):\n",
    "    used = \"\"\n",
    "    for x in string.lower():\n",
    "        if x in used: return False\n",
    "        else: used += x\n",
    "    return True\n",
    "\n",
    "is_isogram(\"\")"
   ]
  },
  {
   "cell_type": "markdown",
   "id": "97a39097-e5b3-402c-881e-911ba8d7b541",
   "metadata": {},
   "source": [
    "# Unique Strings\n",
    "\n",
    "https://www.codewars.com/kata/586c7cd3b98de02ef60001ab/train/python"
   ]
  },
  {
   "cell_type": "code",
   "execution_count": 5,
   "id": "ccf22af0-d2a1-495f-905b-8506b555e194",
   "metadata": {},
   "outputs": [
    {
     "data": {
      "text/plain": [
       "6"
      ]
     },
     "execution_count": 5,
     "metadata": {},
     "output_type": "execute_result"
    }
   ],
   "source": [
    "def uniq_count(s):\n",
    "    se = set(s.lower())\n",
    "    duplicates_variations = len(s) - len(se)\n",
    "    \n",
    "    count = 1\n",
    "    for x in range(len(se)):\n",
    "        count *= x+1    \n",
    "    return count if duplicates_variations <= 1 else count + duplicates_variations\n",
    "\n",
    "uniq_count(\"aadddd\")"
   ]
  },
  {
   "cell_type": "code",
   "execution_count": 112,
   "id": "dc4e1830-510f-4306-8a33-5797fbf4e80a",
   "metadata": {},
   "outputs": [
    {
     "data": {
      "text/plain": [
       "3011717"
      ]
     },
     "execution_count": 112,
     "metadata": {},
     "output_type": "execute_result"
    }
   ],
   "source": [
    "import random\n",
    "import math\n",
    "import time\n",
    "\n",
    "\n",
    "def uniq_count(s):\n",
    "    combinations = {}\n",
    "    liste = list(s.lower())\n",
    "    t0 = time.time()\n",
    "    while t0+11> time.time():\n",
    "        random.shuffle(liste)\n",
    "        tmp = ''.join(liste)\n",
    "        combinations.add(tmp)\n",
    "    return len(combinations)\n",
    "\n",
    "uniq_count(\"abcdefghijklmnop\")\n",
    "          "
   ]
  },
  {
   "cell_type": "markdown",
   "id": "529c03f9-cfdf-4fb2-a709-3183190a8018",
   "metadata": {},
   "source": [
    "# #8 Matrices: Up and Down Sorting For Each Column\n",
    "\n",
    "https://www.codewars.com/kata/590b8d5cee471472f40000aa/train/python"
   ]
  },
  {
   "cell_type": "markdown",
   "id": "afb73871-9729-45d8-ac2c-70bd38c7c13f",
   "metadata": {},
   "source": [
    "# Human Readable Time\n",
    "\n",
    "\n",
    "https://www.codewars.com/kata/52685f7382004e774f0001f7/train/python"
   ]
  },
  {
   "cell_type": "code",
   "execution_count": 32,
   "id": "10134eec-e937-4771-a2e2-bd13a5ac6998",
   "metadata": {
    "tags": []
   },
   "outputs": [
    {
     "data": {
      "text/plain": [
       "'00:00:00'"
      ]
     },
     "execution_count": 32,
     "metadata": {},
     "output_type": "execute_result"
    }
   ],
   "source": [
    "from datetime import datetime\n",
    "\n",
    "\n",
    "def make_readable(seconds):\n",
    "    seconds -= 3600\n",
    "    return datetime.fromtimestamp(seconds).strftime(\"%H:%M:%S\")\n",
    "\n",
    "make_readable(0)"
   ]
  },
  {
   "cell_type": "markdown",
   "id": "ca04bdab-3edb-49c7-bbf1-973bb510803d",
   "metadata": {},
   "source": [
    "# Binary Bunch Transform of an Integer\n",
    "\n",
    "https://www.codewars.com/kata/62cc5882ea688d00428ad2b0"
   ]
  },
  {
   "cell_type": "code",
   "execution_count": 17,
   "id": "751102e8-17eb-4d3a-a7bc-64a375dd4a9e",
   "metadata": {},
   "outputs": [
    {
     "name": "stdout",
     "output_type": "stream",
     "text": [
      "3 7\n",
      "131 0b10000011\n"
     ]
    }
   ],
   "source": [
    "# return an integer\n",
    "def bunch(n):\n",
    "    bin_num = bin(n)[2:]\n",
    "    ones = bin_num.count('1')\n",
    "    zeros = bin_num.count('0')\n",
    "    new_number = ['1' for one in ones]\n",
    "    \n",
    "    print(ones, zeros)\n",
    "    while n % 2 == 0:\n",
    "        n = n >> 1\n",
    "        \n",
    "    print(n, bin(n))\n",
    "        \n",
    "        \n",
    "\n",
    "bunch(524)"
   ]
  }
 ],
 "metadata": {
  "kernelspec": {
   "display_name": "Python 3 (ipykernel)",
   "language": "python",
   "name": "python3"
  },
  "language_info": {
   "codemirror_mode": {
    "name": "ipython",
    "version": 3
   },
   "file_extension": ".py",
   "mimetype": "text/x-python",
   "name": "python",
   "nbconvert_exporter": "python",
   "pygments_lexer": "ipython3",
   "version": "3.10.6"
  }
 },
 "nbformat": 4,
 "nbformat_minor": 5
}
