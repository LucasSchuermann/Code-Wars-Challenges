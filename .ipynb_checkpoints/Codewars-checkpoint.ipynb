{
 "cells": [
  {
   "cell_type": "code",
   "execution_count": null,
   "id": "ae4d1128-cb12-40da-a429-388d35fc797d",
   "metadata": {},
   "outputs": [],
   "source": [
    "def longest_motif(seq):\n",
    "    longest = \"\"\n",
    "    for char in seq:\n",
    "        for nuc in seq:\n",
    "            \n",
    "    pass\n",
    "longest_motif('AGTGGGTCATTGCTAGTAGTCGACATTGCAT')"
   ]
  },
  {
   "cell_type": "markdown",
   "id": "15f27188-e7c2-408a-b136-7555ecd37352",
   "metadata": {},
   "source": [
    "## Simple assembler interpreter\n",
    "https://www.codewars.com/kata/58e24788e24ddee28e000053 \\\n",
    "This is the first part of this kata series. Second part is here.\n",
    "\n",
    "We want to create a simple interpreter of assembler which will support the following instructions:\n",
    "\n",
    "    mov x y - copies y (either a constant value or the content of a register) into register x\n",
    "    inc x - increases the content of the register x by one\n",
    "    dec x - decreases the content of the register x by one\n",
    "    jnz x y - jumps to an instruction y steps away (positive means forward, negative means backward, y can be a register or a constant), but only if x (a constant or a register) is not zero\n",
    "\n",
    "Register names are alphabetical (letters only). Constants are always integers (positive or negative).\n",
    "\n",
    "Note: the jnz instruction moves relative to itself. For example, an offset of -1 would continue at the previous instruction, while an offset of 2 would skip over the next instruction.\n",
    "\n",
    "The function will take an input list with the sequence of the program instructions and will execute them. The program ends when there are no more instructions to execute, then it returns a dictionary (a table in COBOL) with the contents of the registers.\n",
    "\n",
    "Also, every inc/dec/jnz on a register will always be preceeded by a mov on the register first, so you don't need to worry about uninitialized registers.\n",
    "Example\n",
    "\n",
    "[\"mov a 5\"; \"inc a\"; \"dec a\"; \"dec a\"; \"jnz a -1\"; \"inc a\"]\n",
    "\n",
    "visualized:\n",
    "\n",
    "mov a 5\n",
    "inc a\n",
    "dec a\n",
    "dec a\n",
    "jnz a -1\n",
    "inc a\n",
    "\n",
    "The above code will:\n",
    "\n",
    "    set register a to 5,\n",
    "    increase its value by 1,\n",
    "    decrease its value by 2,\n",
    "    then decrease its value until it is zero (jnz a -1 jumps to the previous instruction if a is not zero)\n",
    "    and then increase its value by 1, leaving register a at 1\n",
    "\n",
    "So, the function should return:\n",
    "\n",
    "{'a': 1}\n"
   ]
  },
  {
   "cell_type": "code",
   "execution_count": 24,
   "id": "7388d45e-bd08-479e-b05b-508faaaba06a",
   "metadata": {},
   "outputs": [],
   "source": [
    "import re\n",
    "\n",
    "def reg_or_val(n, reg):\n",
    "    if n is None: return \n",
    "    return reg[n] if n.isalpha() and n.islower() else int(n)\n",
    "\n",
    "def mov(a, b, registers):\n",
    "    registers[a] = reg_or_val(b, registers)\n",
    "    return 1\n",
    "def inc(a, b, registers):\n",
    "    registers[a] += 1\n",
    "    return 1\n",
    "def dec(a, b, registers):\n",
    "    registers[a] -= 1 \n",
    "    return 1\n",
    "def jnz(a, b, registers):\n",
    "    return reg_or_val(b, registers) if reg_or_val(a, registers) != 0 else 1\n",
    "    \n",
    "    \n",
    "def simple_assembler(program):\n",
    "\t# return a dictionary with the registers\n",
    "    instruction_pointer = 0\n",
    "    registers = {}\n",
    "    ops = {\n",
    "        'mov' : mov,\n",
    "        'inc' : inc,\n",
    "        'dec' : dec,\n",
    "        'jnz' : jnz\n",
    "    }\n",
    "    while 0 <= instruction_pointer < len(program):\n",
    "        command = re.split(r' ', program[instruction_pointer])\n",
    "        op, a, b = command + [None] * (3 - len(command))\n",
    "        instruction_pointer += ops[op](a,b, registers)\n",
    "    return registers\n",
    "\n"
   ]
  },
  {
   "cell_type": "code",
   "execution_count": 25,
   "id": "73292595-cf4b-4200-bae5-4d901a9a2ba2",
   "metadata": {},
   "outputs": [
    {
     "data": {
      "text/plain": [
       "{'c': 409600, 'b': 409600, 'a': 409600}"
      ]
     },
     "execution_count": 25,
     "metadata": {},
     "output_type": "execute_result"
    }
   ],
   "source": [
    "code = '''\\\n",
    "mov c 12\n",
    "mov b 0\n",
    "mov a 200\n",
    "dec a\n",
    "inc b\n",
    "jnz a -2\n",
    "dec c\n",
    "mov a b\n",
    "jnz c -5\n",
    "jnz 0 1\n",
    "mov c a'''\n",
    "simple_assembler(code.splitlines())\n"
   ]
  },
  {
   "cell_type": "markdown",
   "id": "d96c6d0b-b143-4c48-9d0b-364ec43cdce4",
   "metadata": {},
   "source": [
    "## Number encrypting: decypher\n",
    "https://www.codewars.com/kata/number-encrypting-decypher \\\n",
    "Description:\n",
    "Number encrypting: decypher\n",
    "Part II of Number encrypting Katas\n",
    "Introduction\n",
    "\n",
    "Back then when the internet was coming up, most search functionalities simply looked for keywords in text to show relevant documents. Hackers weren't very keen on having their information displayed on websites, bulletin boards, newsgroups or any other place, so they started to replace certain letters in words. It started out with simple vowel substitutions like a 4 instead of an A, or a 3 instead of an E. This meant that topics like cracking or hacking remained undetected.\n",
    "\n",
    "Here we will use a reduced version of the Leet Speak alphabet, but you can find more information here or at Wikipedia.\n",
    "Task\n",
    "\n",
    "You will receive a string cyphered according to the Kata Number encrypting: cypher. You will have to return the decyphered version of that string.\n",
    "\n",
    "As a summary of how a string is cyphered, you have the following information.\n",
    "\n",
    "The numbers corresponding to each letter are represented at the table below. Notice that different letters can share the same number. In those cases, one letter will be upper case and the other one lower case.\n",
    "Any character that is not at the table, does not change when cyphered.\n",
    "\n",
    "NOTE: When cyphering, two letters can have the same number, therefore when decyphering one number can have two letters. To be able to select the correct letter for that number, you have to take into account the following RULES:\n",
    "\n",
    "    The first letter of the decyphered string will always be in Upper Case. (see example test #6)\n",
    "    Any letter placed after a period will always be in Upper Case. Between the period and the following letter, there will always be a space. (see example text #3, '. Good...')\n",
    "    Any letter 'i' followed and preceded by a space, will always be Upper Case (see example test #3, '...else I can...'). It will also be Upper Case if it is preceded by a space and followed by a character different than a letter (see exaple tests #4 and #5)\n",
    "    In any other case where a number must be converted into a letter, the letter will be lower case. That is to say, if the cyphered string has an Upper Case letter, it remains Upper Case, as it doesn't have to be transformed (see 'W' in the first example).\n",
    "\n",
    "Examples\n",
    "\n",
    "    Input: \"H3110 W0r1d\". Output: \"Hello World\"\n",
    "    Input: \"1 4m y0ur f47h3r\". Output: \"I am your father\"\n",
    "    Input: \"1 d0 n07 kn0w wh47 3153 1 c4n 7357. 83 c001. 600d 1uck\". Output: \"I do not know what else I can test. Be cool. Good luck\"\n",
    "    Input: \"N3i7h3r d0 1\". Output: \"Neither do I\"\n",
    "    Input: \"1, 1. 1 m34n 13773r 1\". Output: \"I, I. I mean letter I\"\n",
    "    Input: \"60475 4nd 60475\". Output: \"Goats and Boats\"\n",
    "\n"
   ]
  },
  {
   "cell_type": "code",
   "execution_count": 37,
   "id": "a7626fa1-811c-4c99-830f-b61a501e769c",
   "metadata": {
    "scrolled": true
   },
   "outputs": [
    {
     "data": {
      "text/plain": [
       "'112233445566778900'"
      ]
     },
     "execution_count": 37,
     "metadata": {},
     "output_type": "execute_result"
    }
   ],
   "source": [
    "letter_to_number = {\n",
    "    'I': '1',\n",
    "    'R': '2',\n",
    "    'E': '3',\n",
    "    'A': '4',\n",
    "    'S': '5',\n",
    "    'G': '6',\n",
    "    'T': '7',\n",
    "    'B': '8',\n",
    "    'O': '0',\n",
    "    \n",
    "    'l': '1',\n",
    "    'z': '2',\n",
    "    'e': '3',\n",
    "    'a': '4',\n",
    "    's': '5',\n",
    "    'b': '6',\n",
    "    't': '7',\n",
    "    'g': '9',\n",
    "    'o': '0'\n",
    "}\n",
    "def cypher(s):\n",
    "    return ''.join([letter_to_number.get(char, char) for char in s])\n",
    "\n",
    "cypher('IlRzEeAaSsGbTtBgOo')"
   ]
  },
  {
   "cell_type": "markdown",
   "id": "b66e2be7-6cd0-4a20-8ef2-0d973c3434ad",
   "metadata": {},
   "source": [
    "## Decode the Morse code \n",
    "https://www.codewars.com/kata/54b724efac3d5402db00065e \\\n",
    "Part of Series 1/3\n",
    "This kata is part of a series on the Morse code. After you solve this kata, you may move to the next one.\n",
    "\n",
    "In this kata you have to write a simple Morse code decoder. While the Morse code is now mostly superseded by voice and digital data communication channels, it still has its use in some applications around the world.\n",
    "\n",
    "The Morse code encodes every character as a sequence of \"dots\" and \"dashes\". For example, the letter A is coded as ·−, letter Q is coded as −−·−, and digit 1 is coded as ·−−−−. The Morse code is case-insensitive, traditionally capital letters are used. When the message is written in Morse code, a single space is used to separate the character codes and 3 spaces are used to separate words. For example, the message HEY JUDE in Morse code is ···· · −·−−   ·−−− ··− −·· ·.\n",
    "\n",
    "NOTE: Extra spaces before or after the code have no meaning and should be ignored.\n",
    "\n",
    "In addition to letters, digits and some punctuation, there are some special service codes, the most notorious of those is the international distress signal SOS (that was first issued by Titanic), that is coded as ···−−−···. These special codes are treated as single special characters, and usually are transmitted as separate words.\n",
    "\n",
    "Your task is to implement a function that would take the morse code as input and return a decoded human-readable string.\n",
    "\n",
    "For example:\n",
    "\n",
    "decode_morse('.... . -.--   .--- ..- -.. .')\n",
    "#should return \"HEY JUDE\"\n",
    "\n",
    "NOTE: For coding purposes you have to use ASCII characters . and -, not Unicode characters.\n",
    "\n",
    "The Morse code table is preloaded for you as a dictionary, feel free to use it:\n",
    "\n",
    "    Coffeescript/C++/Go/JavaScript/Julia/PHP/Python/Ruby/TypeScript: MORSE_CODE['.--']\n",
    "    C#: MorseCode.Get(\".--\") (returns string)\n",
    "    F#: MorseCode.get \".--\" (returns string)\n",
    "    Elixir: @morse_codes variable (from use MorseCode.Constants). Ignore the unused variable warning for morse_codes because it's no longer used and kept only for old solutions.\n",
    "    Elm: MorseCodes.get : Dict String String\n",
    "    Haskell: morseCodes ! \".--\" (Codes are in a Map String String)\n",
    "    Java: MorseCode.get(\".--\")\n",
    "    Kotlin: MorseCode[\".--\"] ?: \"\" or MorseCode.getOrDefault(\".--\", \"\")\n",
    "    Racket: morse-code (a hash table)\n",
    "    Rust: MORSE_CODE\n",
    "    Scala: morseCodes(\".--\")\n",
    "    Swift: MorseCode[\".--\"] ?? \"\" or MorseCode[\".--\", default: \"\"]\n",
    "\n",
    "    C: provides parallel arrays, i.e. morse[2] == \"-.-\" for ascii[2] == \"C\"\n",
    "\n",
    "    NASM: a table of pointers to the morsecodes, and a corresponding list of ascii symbols\n",
    "\n",
    "All the test strings would contain valid Morse code, so you may skip checking for errors and exceptions. In C#, tests will fail if the solution code throws an exception, please keep that in mind. This is mostly because otherwise the engine would simply ignore the tests, resulting in a \"valid\" solution.\n",
    "\n",
    "Good luck!\n",
    "\n",
    "After you complete this kata, you may try yourself at Decode the Morse code, advanced.\n"
   ]
  },
  {
   "cell_type": "code",
   "execution_count": 27,
   "id": "993c92c7-28fc-4c43-94d3-49c89e84528c",
   "metadata": {},
   "outputs": [
    {
     "name": "stdout",
     "output_type": "stream",
     "text": [
      "['.']\n",
      "['.']\n"
     ]
    },
    {
     "data": {
      "text/plain": [
       "'E'"
      ]
     },
     "execution_count": 27,
     "metadata": {},
     "output_type": "execute_result"
    }
   ],
   "source": [
    "import re\n",
    "MORSE_CODE_DICT = {\n",
    "        '.-': 'A', '-...': 'B', '-.-.': 'C', '-..': 'D', '.': 'E',\n",
    "        '..-.': 'F', '--.': 'G', '....': 'H', '..': 'I', '.---': 'J',\n",
    "        '-.-': 'K', '.-..': 'L', '--': 'M', '-.': 'N', '---': 'O',\n",
    "        '.--.': 'P', '--.-': 'Q', '.-.': 'R', '...': 'S', '-': 'T',\n",
    "        '..-': 'U', '...-': 'V', '.--': 'W', '-..-': 'X', '-.--': 'Y',\n",
    "        '--..': 'Z', '-----': '0', '.----': '1', '..---': '2', '...--': '3',\n",
    "        '....-': '4', '.....': '5', '-....': '6', '--...': '7', '---..': '8',\n",
    "        '----.': '9', '.-.-.-': '.', '--..--': ',', '..--..': '?',\n",
    "        '.----.': \"'\", '-.-.--': '!', '-..-.': '/', '-.--.': '(', \n",
    "        '-.--.-': ')', '.-...': '&', '---...': ':', '-.-.-.': ';',\n",
    "        '-...-': '=', '.-.-.': '+', '-....-': '-', '...-..-': '$',\n",
    "        '.--.-.': '@', '..--.-': '_', '...-.': 'Ä', '.-.-': 'Á',\n",
    "        '.--.-': 'À', '.-.-': 'Ą', '-.-..': 'Ć', '.-..-': 'É', \n",
    "        '.-..-': 'È', '.--..': 'Ź'\n",
    "    }\n",
    "\n",
    "def decode_morse(morse_code):\n",
    "    morse_code = re.sub(r'^\\s+|\\s+$', '',morse_code)\n",
    "    words = re.split(r'\\s{3}',morse_code)\n",
    "    print(words)\n",
    "    result = []\n",
    "    for word in words:\n",
    "        chars = [morse for morse in re.split(r'\\s{1}',word) if morse in MORSE_CODE_DICT]\n",
    "        print(chars)\n",
    "        text = ''.join([MORSE_CODE_DICT[char] for char in chars])\n",
    "        result.append(text)\n",
    "    return ' '.join(result)\n",
    "decode_morse('  . ')"
   ]
  },
  {
   "cell_type": "code",
   "execution_count": null,
   "id": "16a0ce2f-7f0c-4fd8-864d-da59a6843b8c",
   "metadata": {},
   "outputs": [],
   "source": []
  },
  {
   "cell_type": "markdown",
   "id": "3ec3f9f3-716d-4dd3-b8c2-384fab838787",
   "metadata": {},
   "source": [
    "## spin_words\n",
    "https://www.codewars.com/kata/5264d2b162488dc400000001 \\\n",
    "Write a function that takes in a string of one or more words, and returns the same string, but with all words that have five or more letters reversed (Just like the name of this Kata). Strings passed in will consist of only letters and spaces. Spaces will be included only when more than one word is present."
   ]
  },
  {
   "cell_type": "code",
   "execution_count": 2,
   "id": "b84a4f4f-a85e-4d71-8284-f260d1a0ca41",
   "metadata": {},
   "outputs": [
    {
     "name": "stdout",
     "output_type": "stream",
     "text": [
      "olleH dlroW nice \n"
     ]
    }
   ],
   "source": [
    "def spin_words(sentence):\n",
    "    splitted = sentence.split(' ')\n",
    "    final =\"\"\n",
    "    for word in splitted:\n",
    "        if len(word)>4:\n",
    "            word=word[::-1]\n",
    "        final+=word+\" \"\n",
    "    return final\n",
    "\n",
    "print(spin_words(\"Hello World nice\"))"
   ]
  },
  {
   "cell_type": "markdown",
   "id": "1ac965c1-f114-4312-ac1e-15e4bda8bbc9",
   "metadata": {},
   "source": [
    "## Counting Duplicates\n",
    "https://www.codewars.com/kata/54bf1c2cd5b56cc47f0007a1 \\\n",
    "Write a function that will return the count of distinct case-insensitive alphabetic characters and numeric digits that occur more than once in the input string. The input string can be assumed to contain only alphabets (both uppercase and lowercase) and numeric digits."
   ]
  },
  {
   "cell_type": "code",
   "execution_count": 2,
   "id": "42c91c48-03d4-4992-9f6d-854e10c2165d",
   "metadata": {},
   "outputs": [
    {
     "data": {
      "text/plain": [
       "8"
      ]
     },
     "execution_count": 2,
     "metadata": {},
     "output_type": "execute_result"
    }
   ],
   "source": [
    "import re\n",
    "\n",
    "def duplicate_count(text):\n",
    "    # Your code goes here\n",
    "    text = text.lower()\n",
    "    final = ''.join(sorted(text))\n",
    "    pattern = re.compile(r'([a-zA-Z])\\1+')\n",
    "    return len(re.findall(pattern,final))\n",
    "\n",
    "duplicate_count(\"abasjasdkjhkjahjsahdjashdjaseeeeeeeeeeeeeeeeeeeeeeeeeeeeeeeeeeeeeeehdjsjdB\")"
   ]
  },
  {
   "cell_type": "markdown",
   "id": "3c0c3fb2-122d-4ba3-95da-41ebe5052f98",
   "metadata": {},
   "source": [
    "## Friend or Foe\n",
    "https://www.codewars.com/kata/55b42574ff091733d900002f \\\n",
    "Make a program that filters a list of strings and returns a list with only your friends name in it.\n",
    "If a name has exactly 4 letters in it, you can be sure that it has to be a friend of yours! Otherwise, you can be sure he's not...\n"
   ]
  },
  {
   "cell_type": "code",
   "execution_count": 101,
   "id": "52770f41-fd0a-4c0d-86fa-2ef96e93c1c9",
   "metadata": {},
   "outputs": [
    {
     "name": "stdout",
     "output_type": "stream",
     "text": [
      "['Ryan']\n"
     ]
    }
   ],
   "source": [
    "def friend(x):\n",
    "    return [f for f in x if len(f)==4]\n",
    "\n",
    "print(friend([\"Ryan\", \"Jimmy\", \"123\", \"4\", \"Cool Man\"]))"
   ]
  },
  {
   "cell_type": "markdown",
   "id": "d571d4fa-8dc1-4198-8519-907010a09550",
   "metadata": {},
   "source": [
    "## Regex validate PIN code\n",
    "https://www.codewars.com/kata/55f8a9c06c018a0d6e000132 \\\n",
    "ATM machines allow 4 or 6 digit PIN codes and PIN codes cannot contain anything but exactly 4 digits or exactly 6 digits.\n",
    "If the function is passed a valid PIN string, return true, else return false."
   ]
  },
  {
   "cell_type": "code",
   "execution_count": 120,
   "id": "5993a7c5-241f-4896-8fb0-8545225dbe38",
   "metadata": {},
   "outputs": [
    {
     "data": {
      "text/plain": [
       "True"
      ]
     },
     "execution_count": 120,
     "metadata": {},
     "output_type": "execute_result"
    }
   ],
   "source": [
    "import re\n",
    "def validate_pin(pin):\n",
    "    #return true or false\n",
    "    pattern = re.compile(r'(\\d{4}|\\d{6})')\n",
    "    if re.findall(pattern,pin) != 0:\n",
    "        return True\n",
    "    else:\n",
    "        return False\n",
    "    \n",
    "validate_pin('1234\\n')"
   ]
  },
  {
   "cell_type": "markdown",
   "id": "d64b814a-6dfd-4d55-842a-b412d1e7d045",
   "metadata": {},
   "source": [
    "## Find the unique number\n",
    "https://www.codewars.com/kata/585d7d5adb20cf33cb000235 \\\n",
    "There is an array with some numbers. All numbers are equal except for one. Try to find it!"
   ]
  },
  {
   "cell_type": "code",
   "execution_count": 122,
   "id": "63cabefd-0ab5-4e25-bd54-82871a5d67e1",
   "metadata": {},
   "outputs": [
    {
     "data": {
      "text/plain": [
       "10"
      ]
     },
     "execution_count": 122,
     "metadata": {},
     "output_type": "execute_result"
    }
   ],
   "source": [
    "def find_uniq(arr):\n",
    "    # your code here\n",
    "    arr = sorted(arr)\n",
    "    if arr[0] != arr[1]:\n",
    "        return arr[0]\n",
    "    else:\n",
    "        return arr[len(arr)-1]\n",
    "    return n   # n: unique number in the array\n",
    "\n",
    "find_uniq([ 3, 10, 3, 3, 3 ])"
   ]
  },
  {
   "cell_type": "markdown",
   "id": "7284ca7e-4765-4bca-a56d-bbe40fcef87c",
   "metadata": {},
   "source": [
    "## Moving Zeros To The End\n",
    "https://www.codewars.com/kata/52597aa56021e91c93000cb0 \\\n",
    "Write an algorithm that takes an array and moves all of the zeros to the end, preserving the order of the other elements."
   ]
  },
  {
   "cell_type": "code",
   "execution_count": 124,
   "id": "9769d6d7-fa50-4582-975e-39c7ef0d2a22",
   "metadata": {},
   "outputs": [
    {
     "data": {
      "text/plain": [
       "[1, 2, 1, 1, 3, 1, 0, 0, 0, 0]"
      ]
     },
     "execution_count": 124,
     "metadata": {},
     "output_type": "execute_result"
    }
   ],
   "source": [
    "def move_zeros(array):\n",
    "    zero_arr = [n for n in array if n == 0]\n",
    "    array = [n for n in array if n != 0]\n",
    "    return array + zero_arr\n",
    "move_zeros([1, 2, 0, 1, 0, 1, 0, 3, 0, 1])"
   ]
  },
  {
   "cell_type": "markdown",
   "id": "6c8ccfc6-82d9-443e-ac43-ae85a8725973",
   "metadata": {},
   "source": [
    "## Pete, the baker\n",
    "https://www.codewars.com/kata/525c65e51bf619685c000059 \\\n",
    "Pete likes to bake some cakes. He has some recipes and ingredients. Unfortunately he is not good in maths. Can you help him to find out, how many cakes he could bake considering his recipes? \\\n",
    "Write a function cakes(), which takes the recipe (object) and the available ingredients (also an object) and returns the maximum number of cakes Pete can bake (integer). For simplicity there are no units for the amounts (e.g. 1 lb of flour or 200 g of sugar are simply 1 or 200). Ingredients that are not present in the objects, can be considered as 0."
   ]
  },
  {
   "cell_type": "code",
   "execution_count": 5,
   "id": "365bff6c-6862-425e-b7aa-6a3d4c2f2ab7",
   "metadata": {},
   "outputs": [
    {
     "data": {
      "text/plain": [
       "0"
      ]
     },
     "execution_count": 5,
     "metadata": {},
     "output_type": "execute_result"
    }
   ],
   "source": [
    "def cakes(recipe, available):\n",
    "    return min([available[ingredient]//recipe[ingredient] if ingredient in available else 0 for ingredient in recipe])\n",
    "\n",
    "cakes({\"apples\": 3, \"flour\": 300, \"sugar\": 150, \"milk\": 100, \"oil\": 100},{\"sugar\": 500, \"flour\": 2000, \"milk\": 2000})"
   ]
  },
  {
   "cell_type": "code",
   "execution_count": 155,
   "id": "6ab9f86a-7202-4b07-9f81-eff2842328f4",
   "metadata": {},
   "outputs": [
    {
     "data": {
      "text/plain": [
       "True"
      ]
     },
     "execution_count": 155,
     "metadata": {},
     "output_type": "execute_result"
    }
   ],
   "source": [
    "def comp(array1, array2):\n",
    "    square = True\n",
    "    for i in array2:\n",
    "        if not i**0.5 in array1:\n",
    "            square = False\n",
    "    return square\n",
    "\n",
    "a1 = [121, 144, 19, 161, 19, 144, 19, 11]\n",
    "a2 = [11*11, 121*121, 144*144, 19*19, 161*161, 19*19, 144*144, 19*19]\n",
    "comp(a1,a2)"
   ]
  },
  {
   "cell_type": "markdown",
   "id": "ddbaabc9-1bb1-473b-8960-4b46b6e03e75",
   "metadata": {},
   "source": [
    "## Extract the domain name from a URL\n",
    "https://www.codewars.com/kata/514a024011ea4fb54200004b \\\n",
    "Write a function that when given a URL as a string, parses out just the domain name and returns it as a string. "
   ]
  },
  {
   "cell_type": "code",
   "execution_count": 6,
   "id": "159842b0-81eb-4987-9368-82af5a157e8b",
   "metadata": {},
   "outputs": [
    {
     "data": {
      "text/plain": [
       "'helloworld'"
      ]
     },
     "execution_count": 6,
     "metadata": {},
     "output_type": "execute_result"
    }
   ],
   "source": [
    "import re\n",
    "def domain_name(url):\n",
    "    pattern = re.compile(r'(https?://)?(www.)?(\\w+)(.\\w+)')\n",
    "    return (re.findall(pattern,url))[0][2]\n",
    "\n",
    "domain_name(\"www.helloworld.com\")\n",
    "\n",
    "#test.assert_equals(domain_name(\"http://www.google.com\"), \"google\")\n",
    "#test.assert_equals(domain_name(\"http://google.co.jp\"), \"google\")\n",
    "#test.assert_equals(domain_name(\"www.xakep.ru\"), \"xakep\")\n",
    "#test.assert_equals(domain_name(\"https://youtube.com\"), \"youtube\")"
   ]
  },
  {
   "cell_type": "markdown",
   "id": "4de46806-27af-4298-b834-6af624fef226",
   "metadata": {},
   "source": [
    "## Recover a secret string from random triplets\n",
    "https://www.codewars.com/kata/53f40dff5f9d31b813000774 \\\n",
    "There is a secret string which is unknown to you. Given a collection of random triplets from the string, recover the original string. \\\n",
    "A triplet here is defined as a sequence of three letters such that each letter occurs somewhere before the next in the given string. \"whi\" is a triplet for the string \"whatisup\". \\\n",
    "As a simplification, you may assume that no letter occurs more than once in the secret string. \\\n",
    "You can assume nothing about the triplets given to you other than that they are valid triplets and that they contain sufficient information to deduce the original string. In particular, this means that the secret string will never contain letters that do not occur in one of the triplets given to you.\n"
   ]
  },
  {
   "cell_type": "code",
   "execution_count": 3,
   "id": "fcecce66-d480-4536-b7be-209edeef2d1a",
   "metadata": {
    "tags": []
   },
   "outputs": [
    {
     "name": "stdout",
     "output_type": "stream",
     "text": [
      "[['w', 'h', 'i'], ['t', 's', 'u'], ['a', 't', 's'], ['h', 'a', 'p'], ['t', 'i', 's'], ['w', 'h', 's']]\n",
      "fall 1  tsup ['t', 's', 'u']\n",
      "fall 2  atsup ['a', 't', 's']\n",
      "fall 2  hatsup ['h', 'a', 'p']\n",
      "fall 1  hatisup ['t', 'i', 's']\n",
      "fall 2  whatisup ['w', 'h', 's']\n"
     ]
    },
    {
     "data": {
      "text/plain": [
       "'whatisup'"
      ]
     },
     "execution_count": 3,
     "metadata": {},
     "output_type": "execute_result"
    }
   ],
   "source": [
    "import re\n",
    "import random\n",
    "\n",
    "def recoverSecret(triplets):\n",
    "    final_word_len=len(set([elem for sublist in triplets for elem in sublist]))\n",
    "    result = \"\"\n",
    "    result= result.join(triplets.pop(0))\n",
    "    counter = 0\n",
    "    while len(result)!=final_word_len and counter < 100:\n",
    "        for tmp in triplets:\n",
    "            index_1 = result.find(tmp[0])\n",
    "            index_2 = result.find(tmp[1])\n",
    "            index_3 = result.find(tmp[2])\n",
    "            if index_1 == index_3-1:\n",
    "                result = result[:index_3]+tmp[1]+result[index_3:]\n",
    "                print(\"fall 1 \",result,tmp)\n",
    "            elif index_2 == 0 and index_1==-1:\n",
    "                result = result[:index_2]+tmp[0]+result[index_2:]\n",
    "                print(\"fall 2 \",result,tmp)\n",
    "            elif index_2 == len(result)-1 and index_3==-1:\n",
    "                result = result[:index_2+1]+tmp[2]+result[index_2+1:]\n",
    "                print(\"fall 3 \",result,tmp)\n",
    "            else:\n",
    "                print(triplets)\n",
    "                counter+=1     \n",
    "\n",
    "\n",
    "            \n",
    "    return  result\n",
    "\n",
    "secret = \"whatisup\"\n",
    "triplets = [\n",
    "  ['t','u','p'],\n",
    "  ['w','h','i'],\n",
    "  ['t','s','u'],\n",
    "  ['a','t','s'],\n",
    "  ['h','a','p'],\n",
    "  ['t','i','s'],\n",
    "  ['w','h','s']\n",
    "]\n",
    "#random.shuffle(triplets)\n",
    "recoverSecret(triplets)"
   ]
  },
  {
   "cell_type": "code",
   "execution_count": 41,
   "id": "293f50c5-5724-4f23-8a46-cdb8e43f6fec",
   "metadata": {},
   "outputs": [
    {
     "data": {
      "text/plain": [
       "100"
      ]
     },
     "execution_count": 41,
     "metadata": {},
     "output_type": "execute_result"
    }
   ],
   "source": [
    "import numpy as np\n",
    "from collections import Counter\n",
    "def score(dice):\n",
    "    finalscore = 0\n",
    "    npdice = np.array(dice)\n",
    "    triplets = [item for item, count in Counter(npdice).items() if count >= 3]    \n",
    "    for triple in triplets:\n",
    "        if triple == 1:\n",
    "            finalscore += 1000\n",
    "        elif triple == 2:\n",
    "            finalscore += 200\n",
    "        elif triple == 3:\n",
    "            finalscore += 300\n",
    "        elif triple == 4:\n",
    "            finalscore += 400\n",
    "        elif triple == 5:\n",
    "            finalscore += 500\n",
    "        elif triple == 6:\n",
    "            finalscore += 600\n",
    "        \n",
    "    fives = [count for item, count in Counter(npdice).items() if item == 5]\n",
    "    ones = [count for item, count in Counter(npdice).items() if item == 1]\n",
    "    if fives and fives[0] >= 4:\n",
    "        fives[0] = fives[0]-3\n",
    "    if ones and ones[0] >= 4:\n",
    "        ones[0] = ones[0]-3\n",
    "    \n",
    "    for five in fives:\n",
    "        finalscore += 50\n",
    "    for one in ones:\n",
    "        finalscore += 100\n",
    "    \n",
    "    \n",
    "    return finalscore\n",
    "    \n",
    "throw = [ 1, 1 ]\n",
    "score(throw)\n",
    "#test.assert_equals( score( [2, 3, 4, 6, 2] ), 0)\n",
    "#test.assert_equals( score(  [4, 4, 4, 3, 3] ), 400)\n",
    "#test.assert_equals( score(  [2, 4, 4, 5, 4] ), 450)"
   ]
  },
  {
   "cell_type": "markdown",
   "id": "5e52f85b-f3e3-4c46-9128-358f24d2f61f",
   "metadata": {},
   "source": [
    "## Upstream/Downstream\n",
    "https://www.codewars.com/kata/58162692c2a518f03a000189/train/python \\\n",
    "Chingel is practicing for a rowing competition to be held on this saturday. He is trying his best to win this tournament for which he needs to figure out how much time it takes to cover a certain distance. \n",
    "#### Input\n",
    "You will be provided with the total distance of the journey, speed of the boat and whether he is going downstream or upstream. The speed of the stream and direction of rowing will be given as a string. Check example test cases! \n",
    "#### Output\n",
    "The output returned should be the time taken to cover the distance. If the result has decimal places, round them to 2 fixed positions.\n"
   ]
  },
  {
   "cell_type": "code",
   "execution_count": 76,
   "id": "561d8b2b-2502-4cd0-8a1b-f5b47cb925a2",
   "metadata": {},
   "outputs": [
    {
     "data": {
      "text/plain": [
       "2.0"
      ]
     },
     "execution_count": 76,
     "metadata": {},
     "output_type": "execute_result"
    }
   ],
   "source": [
    "import re\n",
    "def time(distance,boat_speed,stream):\n",
    "    streamd = 0\n",
    "    patternNum = \"\\d+\"\n",
    "    patternLetter = \"^[A-Z]\"\n",
    "    num = int(re.findall(patternNum,stream)[0])\n",
    "    letter = re.findall(patternLetter,stream)[0]\n",
    "    \n",
    "    if letter == 'D':\n",
    "        streamd = 1\n",
    "    elif letter == 'U':\n",
    "        streamd = -1\n",
    "    \n",
    "    return round(distance / (boat_speed + streamd * num),2)\n",
    "\n",
    "\n",
    "time(24,10,\"Downstream 2\")"
   ]
  },
  {
   "cell_type": "markdown",
   "id": "e06759ca-3ca5-4159-8506-d7006aeb3c48",
   "metadata": {},
   "source": [
    "## up AND down\n",
    "https://www.codewars.com/kata/56cac350145912e68b0006f0/train/python \\\n",
    "Don't be afraid, the description is rather long but - hopefully - it is in order that the process be well understood.\n",
    "\n",
    "You are given a string s made up of substring s(1), s(2), ..., s(n) separated by whitespaces. Example: \"after be arrived two My so\"\n",
    "Task\n",
    "\n",
    "Return a string t having the following property:\n",
    "\n",
    "length t(O) <= length t(1) >= length t(2) <= length t(3) >= length t(4) .... (P)\n",
    "\n",
    "where the t(i) are the substring of s; you must respect the following rule:\n",
    "\n",
    "at each step from left to right, you can only move either already consecutive strings or strings that became consecutive after a previous move. The number of moves should be minimum.\n",
    "Let us go with our example:\n",
    "\n",
    "The length of \"after\" is greater than the length of \"be\". Let us move them ->\"be after arrived two My so\"\n",
    "\n",
    "The length of \"after\" is smaller than the length of \"arrived\". Let us move them -> \"be arrived after two My so\"\n",
    "\n",
    "The length of \"after\" is greater than the length of \"two\" ->\"be arrived two after My so\"\n",
    "\n",
    "The length of \"after\" is greater than the length of \"My\". Good! Finally the length of \"My\" and \"so\" are the same, nothing to do. At the end of the process, the substrings s(i) verify:\n",
    "\n",
    "length s(0) <= length s(1) >= length s(2) <= length s(3) >= length (s4) <= length (s5)\n",
    "\n",
    "Hence given a string s of substrings s(i) the function arrange with the previous process should return a unique string t having the property (P).\n",
    "\n",
    "It is kind of roller coaster or up and down. When you have property (P), to make the result more \"up and down\" visible t(0), t(2), ... will be lower cases and the others upper cases.\n",
    "\n",
    "arrange(\"after be arrived two My so\") should return \"be ARRIVED two AFTER my SO\"\n",
    "\n",
    "Notes:\n",
    "\n",
    "    The string \"My after be arrived so two\" has the property (P) but can't be obtained by the described process so it won't be accepted as a result. The property (P) doesn't give unicity by itself.\n",
    "    Process: go from left to right, move only consecutive strings when needed.\n",
    "    For the first fixed tests the needed number of moves to get property (P) is given as a comment so that you can know if your process follows the rule.\n",
    "\n"
   ]
  },
  {
   "cell_type": "code",
   "execution_count": 102,
   "id": "54eed9e6-8014-4aa1-b252-c8def9089cb3",
   "metadata": {},
   "outputs": [
    {
     "data": {
      "text/plain": [
       "'who RETAINING hit THAT a THE we TAKEN'"
      ]
     },
     "execution_count": 102,
     "metadata": {},
     "output_type": "execute_result"
    }
   ],
   "source": [
    "def arrange(strng):\n",
    "    # your code\n",
    "    splitted = strng.split(\" \")\n",
    "    for index in range(len(splitted)-1):\n",
    "        if index % 2 == 0:\n",
    "            if len(splitted[index]) > len(splitted[index+1]):\n",
    "                tmp = splitted[index]\n",
    "                splitted[index] = splitted[index+1]\n",
    "                splitted[index+1] = tmp\n",
    "            splitted[index] = splitted[index].lower()\n",
    "        if index % 2 == 1:\n",
    "            if len(splitted[index]) < len(splitted[index+1]):\n",
    "                tmp = splitted[index]\n",
    "                splitted[index] = splitted[index+1]\n",
    "                splitted[index+1] = tmp\n",
    "            splitted[index] = splitted[index].upper()\n",
    "        if len(splitted) % 2 == 0:\n",
    "            splitted[len(splitted)-1] = splitted[len(splitted)-1].upper()\n",
    "        else: splitted[len(splitted)-1] = splitted[len(splitted)-1].lower()\n",
    "    return \" \".join(splitted)\n",
    "    \n",
    "    \n",
    "arrange(\"who hit retaining The That a we taken\")"
   ]
  },
  {
   "cell_type": "markdown",
   "id": "d46cc83c-81a3-46f1-9790-4f830ae6ecc3",
   "metadata": {},
   "source": [
    "## Valid Parentheses\n",
    "https://www.codewars.com/kata/52774a314c2333f0a7000688/train/python \\\n",
    "Write a function that takes a string of parentheses, and determines if the order of the parentheses is valid. The function should return true if the string is valid, and false if it's invalid."
   ]
  },
  {
   "cell_type": "code",
   "execution_count": 6,
   "id": "e1c7760e-5abc-42de-bccc-db6365f5282b",
   "metadata": {},
   "outputs": [
    {
     "data": {
      "text/plain": [
       "False"
      ]
     },
     "execution_count": 6,
     "metadata": {},
     "output_type": "execute_result"
    }
   ],
   "source": [
    "def valid_parentheses(string):\n",
    "    #your code here\n",
    "    parentheses_test = 0\n",
    "    for char in string:\n",
    "        if char == '(':\n",
    "            parentheses_test += 1\n",
    "        elif char == ')':\n",
    "            parentheses_test -= 1\n",
    "        if parentheses_test < 0:\n",
    "            return False\n",
    "            \n",
    "    return True if parentheses_test == 0 else False\n",
    "valid_parentheses(\"hi())(\")"
   ]
  },
  {
   "cell_type": "code",
   "execution_count": 24,
   "id": "f171f0f0-41ba-41ce-b717-bf0edb685cf8",
   "metadata": {},
   "outputs": [
    {
     "data": {
      "text/plain": [
       "2385"
      ]
     },
     "execution_count": 24,
     "metadata": {},
     "output_type": "execute_result"
    }
   ],
   "source": [
    "class CustomInt(int):\n",
    "    def __call__(self, v):\n",
    "        return CustomInt(self + v)\n",
    "  \n",
    "def add(v):\n",
    "    return CustomInt(v)\n",
    "\n",
    "\n",
    "  \n",
    "# __call__ method will be called\n",
    "add(9)(3)(39)(2334)"
   ]
  },
  {
   "cell_type": "markdown",
   "id": "561938ba-18a3-4c18-bc8f-4c1c2cb5f06b",
   "metadata": {},
   "source": [
    "## Strip Comments\n",
    "https://www.codewars.com/kata/51c8e37cee245da6b40000bd/train/python"
   ]
  },
  {
   "cell_type": "code",
   "execution_count": 1,
   "id": "a9d07da4-531c-44ac-9bb8-13600334c3eb",
   "metadata": {},
   "outputs": [
    {
     "data": {
      "text/plain": [
       "'\\nstrawberries oranges oranges\\napples avocados lemons\\navocados'"
      ]
     },
     "execution_count": 1,
     "metadata": {},
     "output_type": "execute_result"
    }
   ],
   "source": [
    "import re\n",
    "def strip_comments(string, markers):\n",
    "    if not markers: return string\n",
    "    escaped_markers = [re.escape(m) for m in markers]\n",
    "    endstring = []\n",
    "    line_split =  re.split('\\n', string)\n",
    "    for line in line_split:\n",
    "        removed = re.split(f\"[{''.join(escaped_markers)}]\", line)\n",
    "        endstring.append(re.sub(r'\\s+$','',removed[0]))\n",
    "    return '\\n'.join(endstring)\n",
    "strip_comments('# oranges lemons - @\\nstrawberries oranges oranges .\\napples avocados lemons\\navocados , cherries lemons lemons', ['!', '#', \"'\", ',', '=', '-', '.'])\n",
    "#'apples, pears # and bananas\\ngrapes\\nbananas !apples', []), 'apples, pears # and bananas\\ngrapes\\nbananas !apples'\n"
   ]
  },
  {
   "cell_type": "markdown",
   "id": "350a3a9a-e415-48f9-817d-79d2f4e9cfd3",
   "metadata": {},
   "source": [
    "## Schrödinger's Boolean\n",
    "https://www.codewars.com/kata/5a5f9f80f5dc3f942b002309 \\\n",
    "Can a value be both True and False? \\\n",
    "Define omnibool so that it returns True for the following: \\\n",
    "omnibool == True and omnibool == False\n"
   ]
  },
  {
   "cell_type": "code",
   "execution_count": 113,
   "id": "8908b75c-12f4-4124-89e2-7028600df8a6",
   "metadata": {},
   "outputs": [
    {
     "name": "stdout",
     "output_type": "stream",
     "text": [
      "True\n",
      "True\n"
     ]
    }
   ],
   "source": [
    "class OverloadEQ:\n",
    "    def __eq__(self,b):\n",
    "        return True       \n",
    "\n",
    "\n",
    "omnibool = OverloadEQ() # this variable needs your wizard magic!\n",
    "if (omnibool==False): print(\"True\")\n",
    "if (omnibool==True): print(\"True\")"
   ]
  },
  {
   "cell_type": "markdown",
   "id": "34c90197-f7f8-4200-8290-8a7d30d75cab",
   "metadata": {},
   "source": [
    "## Cancer Cells\n",
    "https://www.codewars.com/kata/5931614bb2f657c18c0001c3/train/python \\\n",
    "Your task is to write a function which cuts cancer cells from the body.\n",
    "Cancer cells are divided into two types:\n",
    "\n",
    "    Advance stage,described as letter C\n",
    "    Initial stage,described as letter c\n",
    "\n",
    "Rest cells are divided as follows:\n",
    "\n",
    "    Normal cell,described as lowercase letter\n",
    "    Important cell,described as uppercase letter\n",
    "\n",
    "Prerequisites:\n",
    "\n",
    "    Important cell,cannot be cut out.\n",
    "    Advance cancer cell,should be cut out with adjacent cells if it can be done.\n",
    "\n",
    "Function input is a string (representing a body), remove \"cancer\" characters (based on the described rules) and return the body cured of those \"cancer\" characters.\n"
   ]
  },
  {
   "cell_type": "code",
   "execution_count": 7,
   "id": "339fc6df-3106-4758-a50d-25049c5185bf",
   "metadata": {},
   "outputs": [
    {
     "data": {
      "text/plain": [
       "'abbu'"
      ]
     },
     "execution_count": 7,
     "metadata": {},
     "output_type": "execute_result"
    }
   ],
   "source": [
    "import re\n",
    "def cut_cancer_cells(organism):\n",
    "    pattern = [\"[a-z]?C+[a-z]?\",\"c*\"]\n",
    "    for r in pattern:\n",
    "        organism = re.sub(r, '', organism)\n",
    "    return organism\n",
    "\n",
    "cut_cancer_cells(\"abcCabuzC\")"
   ]
  },
  {
   "cell_type": "markdown",
   "id": "2e6ba06b-c4bb-4c12-b668-e015fb97c9da",
   "metadata": {},
   "source": [
    "## Hashtag Generator \n",
    "https://www.codewars.com/kata/52449b062fb80683ec000024 \\\n",
    "The marketing team is spending way too much time typing in hashtags.\n",
    "Let's help them with our own Hashtag Generator!\n",
    "\n",
    "Here's the deal:\n",
    "\n",
    "    It must start with a hashtag (#).\n",
    "    All words must have their first letter capitalized.\n",
    "    If the final result is longer than 140 chars it must return false.\n",
    "    If the input or the result is an empty string it must return false.\n",
    "\n",
    "Examples\n",
    "\n",
    "\" Hello there thanks for trying my Kata\"  =>  \"#HelloThereThanksForTryingMyKata\"\n",
    "\"    Hello     World   \"                  =>  \"#HelloWorld\"\n",
    "\"\"                                        =>  false\n",
    "\n",
    "\n"
   ]
  },
  {
   "cell_type": "code",
   "execution_count": 3,
   "id": "56a733e8-5eae-4fa3-bbce-40ae516b13ca",
   "metadata": {},
   "outputs": [
    {
     "data": {
      "text/plain": [
       "'#FranciCacca'"
      ]
     },
     "execution_count": 3,
     "metadata": {},
     "output_type": "execute_result"
    }
   ],
   "source": [
    "import re\n",
    "def generate_hashtag(s):     \n",
    "    hashtag = \"#\"\n",
    "    pattern = \"[a-z|\\d|A-Z]+\"\n",
    "    \n",
    "    matches = re.findall(pattern,s)\n",
    "    for match in matches:\n",
    "        hashtag += match.capitalize()\n",
    "    return False if (len(s)==0 or len(hashtag)>=140) else hashtag\n",
    "generate_hashtag(\"Franci cacca\")"
   ]
  },
  {
   "cell_type": "markdown",
   "id": "9246ad5a-3521-4520-974a-604e54ca6813",
   "metadata": {},
   "source": [
    "## parseInt() reloaded\n",
    "https://www.codewars.com/kata/525c7c5ab6aecef16e0001a5 \\\n",
    "In this kata we want to convert a string into an integer. The strings simply represent the numbers in words.\n",
    "\n",
    "Examples:\n",
    "\n",
    "    \"one\" => 1\n",
    "    \"twenty\" => 20\n",
    "    \"two hundred forty-six\" => 246\n",
    "    \"seven hundred eighty-three thousand nine hundred and nineteen\" => 783919\n",
    "\n",
    "Additional Notes:\n",
    "\n",
    "    The minimum number is \"zero\" (inclusively)\n",
    "    The maximum number, which must be supported is 1 million (inclusively)\n",
    "    The \"and\" in e.g. \"one hundred and twenty-four\" is optional, in some cases it's present and in others it's not\n",
    "    All tested numbers are valid, you don't need to validate them\n",
    "\n"
   ]
  },
  {
   "cell_type": "code",
   "execution_count": 1,
   "id": "a6fc685d-9efe-42e2-84f0-cb348768e3b7",
   "metadata": {},
   "outputs": [
    {
     "name": "stdout",
     "output_type": "stream",
     "text": [
      "[2, 1000, 6, 100, 40, 5]\n"
     ]
    },
    {
     "data": {
      "text/plain": [
       "2645"
      ]
     },
     "execution_count": 1,
     "metadata": {},
     "output_type": "execute_result"
    }
   ],
   "source": [
    "import re\n",
    "def parse_int(string):\n",
    "    digits = {\"one\":1, \"two\":2, \"three\":3, \"four\":4, \"five\":5, \"six\":6, \"seven\":7, \"eight\":8, \"nine\":9}\n",
    "    teens = {\"ten\":10, \"eleven\":11, \"twelve\":12, \"thirteen\":13, \"fourteen\":14, \"fifteen\":15, \"sixteen\":16, \"seventeen\":17, \"eighteen\":18, \"nineteen\":19}\n",
    "    decade = {\"twenty\":20, \"thirty\":30, \"forty\":40, \"fifty\":50, \"sixty\":60, \"seventy\":70, \"eighty\":80, \"ninety\":90}\n",
    "    special = {\"hundred\":100, \"thousand\":1000}\n",
    "    numbers = digits|teens|decade|special\n",
    "    number = 0\n",
    "    subarrays = []\n",
    "    if string == \"zero\": return 0\n",
    "    if string == \"one million\": return 1000000\n",
    "    pattern = \" and |\\s|-\"\n",
    "    number_parts_text = re.split(pattern, string)\n",
    "    number_parts = []\n",
    "    for n in number_parts_text:\n",
    "        if n in numbers:\n",
    "            number_parts.append(numbers[n])\n",
    "    print(number_parts)\n",
    "    \n",
    "    if 1000 in number_parts:\n",
    "        subarrays.append([num for num in number_parts[:number_parts.index(1000)]])\n",
    "        number_parts = number_parts[number_parts.index(1000)+1:]\n",
    "        if len(subarrays[0]) == 0:\n",
    "            number = 1\n",
    "        elif 100 in subarrays[0]:\n",
    "            tmp = 1\n",
    "            for hun in subarrays[0][:subarrays[0].index(100)+1]:\n",
    "                tmp *= hun\n",
    "            number += tmp \n",
    "            subarrays[0] = subarrays[0][subarrays[0].index(100)+1:]\n",
    "        for num in subarrays[0]:\n",
    "            number += num\n",
    "        number *= 1000\n",
    "    if 100 in number_parts:\n",
    "        tmp = 1\n",
    "        for hun in number_parts[:number_parts.index(100)+1]:\n",
    "            tmp *= hun\n",
    "        number += tmp\n",
    "        number_parts = number_parts[number_parts.index(100)+1:]\n",
    "    for num in number_parts:\n",
    "        number += num\n",
    "    return number #number\n",
    "parse_int(\"two thousand six hundred forty five\")"
   ]
  },
  {
   "cell_type": "markdown",
   "id": "ed4144bd-f57e-4cfe-92f0-66afd2da8827",
   "metadata": {},
   "source": [
    "## Scramblies\n",
    "https://www.codewars.com/kata/55c04b4cc56a697bb0000048 \\\n",
    "Complete the function scramble(str1, str2) that returns true if a portion of str1 characters can be rearranged to match str2, otherwise returns false.\n",
    "\n",
    "Notes:\n",
    "\n",
    "    Only lower case letters will be used (a-z). No punctuation or digits will be included.\n",
    "    Performance needs to be considered.\n",
    "\n",
    "Examples\n",
    "\n",
    "scramble('rkqodlw', 'world') ==> True\n",
    "scramble('cedewaraaossoqqyt', 'codewars') ==> True\n",
    "scramble('katas', 'steak') ==> False\n",
    "\n"
   ]
  },
  {
   "cell_type": "code",
   "execution_count": 1,
   "id": "871159f4-1d8b-4880-b676-dff9bd58bd52",
   "metadata": {},
   "outputs": [
    {
     "data": {
      "text/plain": [
       "True"
      ]
     },
     "execution_count": 1,
     "metadata": {},
     "output_type": "execute_result"
    }
   ],
   "source": [
    "def scramble(s1, s2):\n",
    "    x = s2\n",
    "    for letter in s1:\n",
    "        if letter in s1: x = x.replace(letter,'',1)\n",
    "        if len(x) == 0: return True\n",
    "    return False\n",
    "scramble('rkqodlw', 'wokrld')"
   ]
  },
  {
   "cell_type": "code",
   "execution_count": 13,
   "id": "d77e09a7-eae0-47fe-b2bd-adaf5b75349f",
   "metadata": {},
   "outputs": [
    {
     "data": {
      "text/plain": [
       "False"
      ]
     },
     "execution_count": 13,
     "metadata": {},
     "output_type": "execute_result"
    }
   ],
   "source": [
    "def scramble(s1, s2):\n",
    "    if len(s1)<len(s2): return False\n",
    "    difference = [char for char in s2 if char not in s1]\n",
    "    return True if len(difference) == 0 else False\n",
    "scramble('rorldw', 'woerld')"
   ]
  },
  {
   "cell_type": "markdown",
   "id": "acf5651d-e05b-4cf2-980f-1d5f5b880244",
   "metadata": {},
   "source": [
    "## Matrix Determinant\n",
    "https://www.codewars.com/kata/52a382ee44408cea2500074c \\\n",
    "Write a function that accepts a square matrix (N x N 2D array) and returns the determinant of the matrix.\n",
    "\n",
    "How to take the determinant of a matrix -- it is simplest to start with the smallest cases:\n",
    "\n",
    "A 1x1 matrix |a| has determinant a.\n",
    "\n",
    "A 2x2 matrix [ [a, b], [c, d] ] or\n",
    "\n",
    "|a  b|\n",
    "|c  d|\n",
    "\n",
    "has determinant: a*d - b*c.\n",
    "\n",
    "The determinant of an n x n sized matrix is calculated by reducing the problem to the calculation of the determinants of n matrices ofn-1 x n-1 size.\n",
    "\n",
    "For the 3x3 case, [ [a, b, c], [d, e, f], [g, h, i] ] or\n",
    "\n",
    "|a b c|  \n",
    "|d e f|  \n",
    "|g h i|  \n",
    "\n",
    "the determinant is: a * det(a_minor) - b * det(b_minor) + c * det(c_minor) where det(a_minor) refers to taking the determinant of the 2x2 matrix created by crossing out the row and column in which the element a occurs:\n",
    "\n",
    "|- - -|\n",
    "|- e f|\n",
    "|- h i|  \n",
    "\n",
    "Note the alternation of signs.\n",
    "\n",
    "The determinant of larger matrices are calculated analogously, e.g. if M is a 4x4 matrix with first row [a, b, c, d], then:\n",
    "\n",
    "det(M) = a * det(a_minor) - b * det(b_minor) + c * det(c_minor) - d * det(d_minor)\n"
   ]
  },
  {
   "cell_type": "code",
   "execution_count": 1,
   "id": "58449366-2fa0-405c-a326-a85f26a29992",
   "metadata": {
    "tags": []
   },
   "outputs": [
    {
     "name": "stdout",
     "output_type": "stream",
     "text": [
      "[[ 1 -2  6  1]\n",
      " [ 0  2  1  3]\n",
      " [ 2 -4  6  4]\n",
      " [ 0  0  3  2]]\n",
      "[[ 2  1  3]\n",
      " [-4  6  4]\n",
      " [ 0  3  2]]\n",
      "[[6 4]\n",
      " [3 2]]\n",
      "Det  =   0\n",
      "[[-4  4]\n",
      " [ 0  2]]\n",
      "Det  =   -8\n",
      "[[-4  6]\n",
      " [ 0  3]]\n",
      "Det  =   -12\n",
      "[[0 1 3]\n",
      " [2 6 4]\n",
      " [0 3 2]]\n",
      "[[6 4]\n",
      " [3 2]]\n",
      "Det  =   0\n",
      "[[2 4]\n",
      " [0 2]]\n",
      "Det  =   4\n",
      "[[2 6]\n",
      " [0 3]]\n",
      "Det  =   6\n",
      "[[ 0  2  3]\n",
      " [ 2 -4  4]\n",
      " [ 0  0  2]]\n",
      "[[-4  4]\n",
      " [ 0  2]]\n",
      "Det  =   -8\n",
      "[[2 4]\n",
      " [0 2]]\n",
      "Det  =   4\n",
      "[[ 2 -4]\n",
      " [ 0  0]]\n",
      "Det  =   0\n",
      "[[ 0  2  1]\n",
      " [ 2 -4  6]\n",
      " [ 0  0  3]]\n",
      "[[-4  6]\n",
      " [ 0  3]]\n",
      "Det  =   -12\n",
      "[[2 6]\n",
      " [0 3]]\n",
      "Det  =   6\n",
      "[[ 2 -4]\n",
      " [ 0  0]]\n",
      "Det  =   0\n"
     ]
    },
    {
     "data": {
      "text/plain": [
       "-36"
      ]
     },
     "execution_count": 1,
     "metadata": {},
     "output_type": "execute_result"
    }
   ],
   "source": [
    "import numpy as np\n",
    "# Author: Lugen\n",
    "def determinant(matrix):\n",
    "    matrix_np = np.array(matrix)\n",
    "    print(matrix_np)\n",
    "    if matrix_np.shape == (1, 1):\n",
    "        return matrix_np[0][0]\n",
    "    elif matrix_np.shape == (2, 2):\n",
    "        #a*d - b*c\n",
    "        print(\"Det  =  \" , matrix_np[0][0]*matrix_np[1][1] - matrix_np[0][1]*matrix_np[1][0])\n",
    "        return matrix_np[0][0]*matrix_np[1][1] - matrix_np[0][1]*matrix_np[1][0]\n",
    "    else:\n",
    "        det = 0\n",
    "        sign = True\n",
    "        for num_index in range(len(matrix_np[0])):\n",
    "            minor_tmp = np.delete(matrix_np, num_index, 1)\n",
    "            minor = np.delete(minor_tmp, 0,0)\n",
    "            if sign: \n",
    "                det += matrix_np[0][num_index] * determinant(minor)\n",
    "                sign = False\n",
    "            else: \n",
    "                det -= matrix_np[0][num_index] * determinant(minor)\n",
    "                sign = True\n",
    "        return det\n",
    "        \n",
    "    \n",
    "determinant([[1,-2,6,1],[0,2,1,3],[2,-4,6,4],[0,0,3,2]])"
   ]
  },
  {
   "cell_type": "markdown",
   "id": "9101d278-b709-4294-a0a5-89b96749e7f9",
   "metadata": {},
   "source": [
    "## Rail Fence Cipher: Encoding and Decoding \n",
    "https://www.codewars.com/kata/58c5577d61aefcf3ff000081 \\\n",
    "Create two functions to encode and then decode a string using the Rail Fence Cipher. This cipher is used to encode a string by placing each character successively in a diagonal along a set of \"rails\". First start off moving diagonally and down. When you reach the bottom, reverse direction and move diagonally and up until you reach the top rail. Continue until you reach the end of the string. Each \"rail\" is then read left to right to derive the encoded string.\n",
    "\n",
    "For example, the string \"WEAREDISCOVEREDFLEEATONCE\" could be represented in a three rail system as follows:\n",
    "\n",
    "<pre style=\"font-family: monospace;\">\n",
    "W       E       C       R       L       T       E\n",
    "  E   R   D   S   O   E   E   F   E   A   O   C\n",
    "    A       I       V       D       E       N\n",
    "</pre>\n",
    "\n",
    "The encoded string would be:\n",
    "\n",
    "WECRLTEERDSOEEFEAOCAIVDEN\n",
    "\n",
    "Write a function/method that takes 2 arguments, a string and the number of rails, and returns the ENCODED string.\n",
    "\n",
    "Write a second function/method that takes 2 arguments, an encoded string and the number of rails, and returns the DECODED string.\n",
    "\n",
    "For both encoding and decoding, assume number of rails >= 2 and that passing an empty string will return an empty string.\n",
    "\n",
    "Note that the example above excludes the punctuation and spaces just for simplicity. There are, however, tests that include punctuation. Don't filter out punctuation as they are a part of the string.\n"
   ]
  },
  {
   "cell_type": "code",
   "execution_count": 4,
   "id": "513a0e19-8194-43d1-8e74-184dee485905",
   "metadata": {},
   "outputs": [
    {
     "name": "stdout",
     "output_type": "stream",
     "text": [
      "yrnao\n",
      "DECODED :  yaron\n"
     ]
    }
   ],
   "source": [
    "def get_pedding_per_lane(lanes, padding_count):\n",
    "    counter_bool = True\n",
    "    counter = 0\n",
    "    lane_padding = []\n",
    "    for lane in range(lanes): lane_padding.append(0)\n",
    "    for char_index in range(padding_count):\n",
    "        lane_padding[counter] += 1\n",
    "        if counter_bool: \n",
    "            counter += 1\n",
    "            if counter == lanes-1: counter_bool = False\n",
    "        else:\n",
    "            counter -= 1\n",
    "            if counter == 0: counter_bool = True\n",
    "    return lane_padding\n",
    "            \n",
    "def encode_rail_fence_cipher(string, n):\n",
    "    counter_bool = True\n",
    "    counter = 0\n",
    "    rails = []\n",
    "    for rail in range(n): rails.append(\"\")\n",
    "    if len(string) == 0: return ''\n",
    "    for char_index in range(len(string)):\n",
    "        rails[counter] += string[char_index]\n",
    "        if counter_bool: \n",
    "            counter += 1\n",
    "            if counter == n-1: counter_bool = False\n",
    "        else:\n",
    "            counter -= 1\n",
    "            if counter == 0: counter_bool = True\n",
    "    return ''.join(rails)\n",
    "def decode_rail_fence_cipher(string, n):\n",
    "    words_per_lane = len(string)//(2*(n-1))\n",
    "    padding_count = len(string)%(2*(n-1))\n",
    "    counter_bool = True\n",
    "    counter = 0\n",
    "    encoded = string\n",
    "    decoded = \"\"\n",
    "    rails = []\n",
    "    padding_per_lane = get_pedding_per_lane(n, padding_count)\n",
    "    for rail in range(n): rails.append(\"\")\n",
    "\n",
    "    for rail in range(n):\n",
    "        if rail == 0 or rail == n-1: \n",
    "                rails[rail] += encoded[:words_per_lane+padding_per_lane[rail]]\n",
    "                encoded = encoded[words_per_lane+padding_per_lane[rail]:]        \n",
    "        else:\n",
    "            rails[rail] += encoded[:words_per_lane*2+padding_per_lane[rail]]\n",
    "            encoded = encoded[words_per_lane*2+padding_per_lane[rail]:]                \n",
    "    for char_index in range(len(string)):        \n",
    "        rails[counter] += string[char_index]\n",
    "        decoded += rails[counter][:1]\n",
    "        rails[counter] = rails[counter][1:]\n",
    "        if counter_bool: \n",
    "            counter += 1\n",
    "            if counter == n-1: counter_bool = False\n",
    "        else:\n",
    "            counter -= 1\n",
    "            if counter == 0: counter_bool = True        \n",
    "    return decoded\n",
    "\n",
    "        \n",
    "        \n",
    "plain = \"yaron\"    \n",
    "cipher = encode_rail_fence_cipher(plain, 2)\n",
    "    \n",
    "print(cipher)\n",
    "\n",
    "print(\"DECODED : \",decode_rail_fence_cipher(cipher, 2))\n",
    "\n",
    "#if plain == decode_rail_fence_cipher(cipher, 4): print(\"TRUE\")\n",
    "    "
   ]
  },
  {
   "cell_type": "markdown",
   "id": "9b623e32-7c7f-4857-a6b7-8a92c53606fe",
   "metadata": {},
   "source": [
    "# Ceasar Chiffre\n"
   ]
  },
  {
   "cell_type": "code",
   "execution_count": 1,
   "id": "eeb423f6-f1e9-4f13-abe7-a0681fb5ffcd",
   "metadata": {
    "tags": []
   },
   "outputs": [
    {
     "name": "stdout",
     "output_type": "stream",
     "text": [
      "Qfzwf\n",
      "Laura\n"
     ]
    }
   ],
   "source": [
    "alphabet = \"abcdefghijklmnopqrstuvwxyz\"\n",
    "upperAlphabet = \"ABCDEFGHIJKLMNOPQRSTUVWXYZ\"\n",
    "key = 5\n",
    "plaintext = \"Laura\"\n",
    "\n",
    "ciphertext = [alphabet[(alphabet.index(i)+key)%26] if i in alphabet else i for i in plaintext]\n",
    "ciphertext = [upperAlphabet[(upperAlphabet.index(i)+key)%26] if i in upperAlphabet else i for i in ciphertext]\n",
    "\n",
    "decoded = [alphabet[(alphabet.index(i)-key)%26] if i in alphabet else i for i in ciphertext]\n",
    "decoded = [upperAlphabet[(upperAlphabet.index(i)-key)%26] if i in upperAlphabet else i for i in decoded]\n",
    "\n",
    "\n",
    "print(\"\".join(ciphertext))\n",
    "print(\"\".join(decoded))\n",
    "\n"
   ]
  },
  {
   "cell_type": "markdown",
   "id": "0c203951-aa0b-4758-9cd0-46d79dabee6e",
   "metadata": {},
   "source": [
    "# Square into Square. Protect Trees!\n",
    "https://www.codewars.com/kata/54eb33e5bc1a25440d000891 \\\n",
    "My little sister came back home from school with the following task: given a squared sheet of paper she has to cut it in pieces which, when assembled, give squares the sides of which form an increasing sequence of numbers. At the beginning it was lot of fun but little by little we were tired of seeing the pile of torn paper. So we decided to write a program that could help us and protects trees.\n",
    "Task\n",
    "\n",
    "Given a positive integral number n, return a strictly increasing sequence (list/array/string depending on the language) of numbers, so that the sum of the squares is equal to n².\n",
    "\n",
    "If there are multiple solutions (and there will be), return as far as possible the result with the largest possible values:\n",
    "Examples\n",
    "\n",
    "decompose(11) must return [1,2,4,10]. Note that there are actually two ways to decompose 11², 11² = 121 = 1 + 4 + 16 + 100 = 1² + 2² + 4² + 10² but don't return [2,6,9], since 9 is smaller than 10.\n",
    "\n",
    "For decompose(50) don't return [1, 1, 4, 9, 49] but [1, 3, 5, 8, 49] since [1, 1, 4, 9, 49] doesn't form a strictly increasing sequence.\n",
    "Note\n",
    "\n",
    "Neither [n] nor [1,1,1,…,1] are valid solutions. If no valid solution exists, return nil, null, Nothing, None (depending on the language) or \"[]\" (C) ,{} (C++), [] (Swift, Go).\n",
    "\n",
    "The function \"decompose\" will take a positive integer n and return the decomposition of N = n² as:\n",
    "\n",
    "    [x1 ... xk] or\n",
    "    \"x1 ... xk\" or\n",
    "    Just [x1 ... xk] or\n",
    "    Some [x1 ... xk] or\n",
    "    {x1 ... xk} or\n",
    "    \"[x1,x2, ... ,xk]\"\n",
    "\n",
    "depending on the language (see \"Sample tests\")\n",
    "Note for Bash\n",
    "\n",
    "decompose 50 returns \"1,3,5,8,49\"\n",
    "decompose 4  returns \"Nothing\"\n",
    "\n",
    "Hint\n",
    "\n",
    "Very often xk will be n-1.\n"
   ]
  },
  {
   "cell_type": "code",
   "execution_count": 17,
   "id": "0826050b-2cec-4d3f-950d-49e37959d017",
   "metadata": {},
   "outputs": [
    {
     "name": "stdout",
     "output_type": "stream",
     "text": [
      "[1, 2, 3, 4, 5, 6, 7, 8, 9, 10]\n"
     ]
    }
   ],
   "source": [
    "import numpy\n",
    "def decompose(n):\n",
    "    possible_numbers = [i+1 for i in range(n-1)]\n",
    "    area = n*n\n",
    "    print(possible_numbers)\n",
    "    for i in range(n-1):\n",
    "        pass\n",
    "    \n",
    "\n",
    "decompose(11)"
   ]
  },
  {
   "cell_type": "code",
   "execution_count": 22,
   "id": "edfa9cdd-61c7-4ff8-9307-da017849171f",
   "metadata": {},
   "outputs": [
    {
     "name": "stdout",
     "output_type": "stream",
     "text": [
      "11\n"
     ]
    }
   ],
   "source": [
    "n = 4\n",
    "fact = 1\n",
    "  \n",
    "for i in range(1,n+1):\n",
    "    fact = fact + i\n",
    "    \n",
    "print(fact)"
   ]
  },
  {
   "cell_type": "markdown",
   "id": "ec098881-75a8-44e5-a62d-620e60b59fb4",
   "metadata": {},
   "source": [
    "# Barista Problem\n",
    "https://www.codewars.com/kata/6167e70fc9bd9b00565ffa4e \\\n",
    "You are a barista at a big cafeteria. Normally there are a lot of baristas, but your boss runs a contest and he told you that, if you could handle all the orders with only one coffee machine in such a way that the sum of all the waiting times of the customers is the smallest possible, he will give you a substantial raise.\n",
    "\n",
    "So you are the only barista today, and you only have one coffee machine that can brew one coffee at a time.\n",
    "People start giving you their orders.\n",
    "Let's not think about the time you need to write down their orders, but you need 2 additional minutes to clean the coffee machine after each coffee you make.\n",
    "\n",
    "Now you have a list coffees of the orders and you write down next to each of the orders the time you need to brew each one of those cups of coffee.\n",
    "\n",
    "Task:\n",
    "\n",
    "Given a list of the times you need to brew each coffee, return the minimum total waiting time.\n",
    "If you get it right, you will get that raise your boss promised you!\n",
    "\n",
    "Note that:\n",
    "\n",
    "    It is possible to receive no orders. (It's a free day :), maybe the next day your boss will start giving you some orders himself, you probably don't want that :) )\n",
    "\n",
    "    You can only brew one coffee at a time.\n",
    "\n",
    "    Since you have one coffee machine, you have to wait for it to brew the current coffee before you can move on to the next one.\n",
    "\n",
    "    Ignore the time you need to serve the coffee and the time you need to take the orders and write down the time you need to make each one of them.\n",
    "\n",
    "    If you have three customers with times [4,3,2], the first customer is going to wait 4 minutes for his coffee, the second customer is going to wait 4 minutes (the time needed for the first customer to get his coffee), another 2 minutes (the time needed to clean the machine) and 3 more minutes (the time you need to brew his coffee), so in total 9 minutes. The third customer, by the same logic, is about to wait 9 minutes (for the first two customers) + 2 more minutes(cleaning) + 2 minutes (his coffee brewing time). This order of brewing the coffee will end up in a total waiting time of 26 minutes, but note that this may not be the minimum time needed. This time depends on the order you choose to brew the cups of coffee.\n",
    "\n",
    "    The order in which you brew the coffee is totally up to you.\n",
    "\n",
    "Examples:\n",
    "\n",
    "coffees = [3,2,5,10,9]  ->  85\n",
    "coffees = [20,5]        ->  32\n",
    "coffees = [4,3,2]       ->  22\n",
    "\n",
    "Next Task\n",
    "\n",
    "Barista Manager\n",
    "\n",
    "Special Thanks to the great Discord community for helping with the creation of this kata and also to the programmers that helped a lot in the \" discuss \" section.\n"
   ]
  },
  {
   "cell_type": "code",
   "execution_count": 66,
   "id": "27361dc4-681d-49e0-8afc-2e5a10ab5104",
   "metadata": {},
   "outputs": [
    {
     "data": {
      "text/plain": [
       "22"
      ]
     },
     "execution_count": 66,
     "metadata": {},
     "output_type": "execute_result"
    }
   ],
   "source": [
    "def barista(coffees):\n",
    "    coffees.sort()\n",
    "    iter_time = 0\n",
    "    total_time = []\n",
    "    for index in range(len(coffees)):\n",
    "        if index == 0: \n",
    "            iter_time += coffees[index]\n",
    "            total_time.append(iter_time)\n",
    "        else:\n",
    "            iter_time += 2 + coffees[index]\n",
    "            total_time.append(iter_time)\n",
    "            \n",
    "    return sum(total_time)\n",
    "\n",
    "#'Sorry, but the smallest waiting time possible is:'\n",
    "\n",
    "barista([4,3,2])"
   ]
  },
  {
   "cell_type": "markdown",
   "id": "0ee6db63-6f88-4b3c-8b70-0c6f49e76677",
   "metadata": {},
   "source": [
    "# Barista Manager\n",
    "https://www.codewars.com/kata/624f3171c0da4c000f4b801d \\\n",
    "Prerequirements\n",
    "\n",
    "This kata is the second part of the Barista Problem. I strongly encourage you to solve that one first.\n",
    "\n",
    "Context\n",
    "\n",
    "You got your RAISE!! YAY!!\n",
    "But now, time has passed, and a position has opened up for Barista Manager.\n",
    "\n",
    "Description\n",
    "\n",
    "In order to be promoted to the rank of manager, you must prove that you have the skills required, such as managing more than one coffee machine. So your boss gives you access to a number of coffee machines that all require the same amount of time to clean. Like before, ignore the time taken to write down the orders and focus only on the time needed to clean the machines and the time needed to brew each coffee.\n",
    "\n",
    "Task\n",
    "\n",
    "Given a list of orders and a number of coffee machines, you must return the minimum time needed for all of the customers to wait for their coffee, so the sum of all the waiting times.\n",
    "\n",
    "Note that\n",
    "\n",
    "    Some customers may ask you for just a glass of water, so that means that the time you would need to \"brew\" their \"coffee\" is 0. Also, you do not need to clean anything in this case. The time you need to fill up the glass of water is also insignificant in comparison to brewing a coffee. Water is free in this cafetaria. :)\n",
    "    The cleaning time for all coffee machines is 2 minutes.\n",
    "    These coffee machines include a self-cleaning system, so they can all begin cleaning themselves immediately after a coffee is made.\n",
    "    The time you need to walk from a coffee machine to another one, or with the coffee cup to a customer, is insignificant.\n",
    "    You only have access to these machines, so you can brew up to second parameter coffees at the same time.\n",
    "    If you receive the following orders [2,3,4] and you have 2 coffee machines, you could choose to brew the third and the second coffee first, so the third customer has to wait 4 minutes, and the second one has to wait 3 minutes. After that you clean the first (or the second) coffee machine, which that takes 2 minutes. Let's say that you choose to clean the first coffee machine so that means that the first customer has to wait 3 minutes for the second customer's coffee + 2 minutes for the cleaning + 2 minutes for his coffee to finish brewing. In total that would add up to 14 minutes. This is not necessarily the minimum time needed.\n",
    "    There may be no orders, which means that you will have to repeat the contest another day.\n",
    "    The number of coffee machines will always be smaller than or equal to the number of all of the orders you receive (water glasses included) (your boss won't give you more than you can actually use, nor read the orders themselves, just count them :) ).\n",
    "    There is also a person hired to clean all the coffee machines after you go home, so they are all clean the next day.\n",
    "    You choose in what order you brew the coffees.\n",
    "\n",
    "Examples\n",
    "\n",
    "[0,0,1] , 1 => 1\n",
    "[2,3,4] , 1 => 22 \n",
    "[2,3,4] , 2 => 13 \n",
    "[2,3,4] , 3 => 9 \n",
    "\n",
    "Limits\n",
    "\n",
    "0 <= number of orders <= 30\n",
    "0 <= size of orders <= 40\n",
    "0 <= coffee machines <= number of orders\n",
    "\n",
    "Special Thanks to the great Discord community for helping with the creation of this kata and also to the programmers that helped a lot in the \" discuss \" section.\n"
   ]
  },
  {
   "cell_type": "code",
   "execution_count": 114,
   "id": "c49d14d5-7f91-41f2-bbc5-600d9381f03a",
   "metadata": {},
   "outputs": [
    {
     "name": "stdout",
     "output_type": "stream",
     "text": [
      "[[], [], [0, 0], [1]]\n",
      "0\n",
      "0\n",
      "2\n",
      "1\n"
     ]
    },
    {
     "data": {
      "text/plain": [
       "3"
      ]
     },
     "execution_count": 114,
     "metadata": {},
     "output_type": "execute_result"
    }
   ],
   "source": [
    "def find_lowest(arrys):\n",
    "    arrysen = enumerate(arrys)\n",
    "    lowest = (0,0)\n",
    "    for index, arr in arrysen:\n",
    "        if lowest[1] == 0: lowest = (index, arr)\n",
    "        elif sum(lowest[1]) >= sum(arr): lowest = (index, arr)  \n",
    "    return lowest[0]\n",
    "\n",
    "def barista_(coffees):\n",
    "    coffees.sort()\n",
    "    iter_time = 0\n",
    "    total_time = []\n",
    "    for index in range(len(coffees)):\n",
    "        if index == 0: \n",
    "            iter_time += coffees[index]\n",
    "            total_time.append(iter_time)\n",
    "        else:\n",
    "            iter_time += 2 + coffees[index]\n",
    "            total_time.append(iter_time)\n",
    "            \n",
    "    return sum(total_time)\n",
    "def barista(coffees, c_machines):\n",
    "    coffees = sorted(coffees)\n",
    "    machines = []\n",
    "    minimum_time = 0\n",
    "    for i in range(c_machines):\n",
    "        machines.append([])\n",
    "\n",
    "    while len(coffees) > 0:\n",
    "        machines[find_lowest(machines)].append(coffees.pop(-1))\n",
    "    print(machines)\n",
    "    for order in machines:\n",
    "        minimum_time += barista_(order)\n",
    "        print(barista_(order))\n",
    "    return minimum_time\n",
    "barista([1,0,0], 4)"
   ]
  },
  {
   "cell_type": "code",
   "execution_count": 102,
   "id": "ca9a9e4e-c66c-42cc-97ec-48f4f9963a33",
   "metadata": {},
   "outputs": [
    {
     "name": "stdout",
     "output_type": "stream",
     "text": [
      "[]\n",
      "[[3, 2], [4]]\n"
     ]
    }
   ],
   "source": [
    "def find_lowest(arrys):\n",
    "    arrysen = enumerate(arrys)\n",
    "    lowest = (0,0)\n",
    "    for index, arr in arrysen:\n",
    "        if lowest[1] == 0: lowest = (index, arr)\n",
    "        elif sum(lowest[1]) >= sum(arr): lowest = (index, arr)  \n",
    "    return lowest[0]\n",
    "\n",
    "def barista(coffees):\n",
    "    coffees.sort()\n",
    "    iter_time = 0\n",
    "    total_time = []\n",
    "    for index in range(len(coffees)):\n",
    "        if index == 0: \n",
    "            iter_time += coffees[index]\n",
    "            total_time.append(iter_time)\n",
    "        else:\n",
    "            iter_time += 2 + coffees[index]\n",
    "            total_time.append(iter_time)\n",
    "            \n",
    "    return sum(total_time)\n",
    "arr = sorted([2,3,4])\n",
    "machine_count = 2\n",
    "machines = []\n",
    "switch = True\n",
    "\n",
    "for i in range(machine_count):\n",
    "    machines.append([])\n",
    "\n",
    "while len(arr) > 0:\n",
    "    machines[find_lowest(machines)].append(arr.pop(-1))\n",
    "    \n",
    "print(arr)\n",
    "print(machines)"
   ]
  },
  {
   "attachments": {
    "011728d2-5741-4a2d-a688-2723b2c2292b.png": {
     "image/png": "[encoded data removed]"
    }
   },
   "cell_type": "markdown",
   "id": "a85eef79-d773-40c8-87c0-5d67404af273",
   "metadata": {},
   "source": [
    "# The Spider and the Fly (Jumping Spider)\n",
    "\n",
    "https://www.codewars.com/kata/5a30e7e9c5e28454790000c1 \\\n",
    "Background\n",
    "\n",
    "A spider web is defined by\n",
    "\n",
    "    \"rings\" numbered out from the centre as 0, 1, 2, 3, 4\n",
    "\n",
    "    \"radials\" labelled clock-wise from the top as A, B, C, D, E, F, G, H\n",
    "\n",
    "Here is a picture to help explain: \\\n",
    "![image.png](attachment:011728d2-5741-4a2d-a688-2723b2c2292b.png)\n",
    "\\\n",
    "Web Coordinates\n",
    "\n",
    "As you can see, each point where the rings and the radials intersect can be described by a \"web coordinate\".\n",
    "\n",
    "So in this example the spider is at H3 and the fly is at E2\n",
    "Kata Task\n",
    "\n",
    "Our friendly jumping spider is resting and minding his own spidery business at web-coordinate spider.\n",
    "\n",
    "An inattentive fly bumbles into the web at web-coordinate fly and gets itself stuck.\n",
    "\n",
    "Your task is to calculate and return the distance the spider must jump to get to the fly.\n",
    "Example\n",
    "\n",
    "The solution to the scenario described by the picture is 4.63522\n",
    "Notes\n",
    "\n",
    "    The centre of the web will always be referred to as A0\n",
    "    The rings intersect the radials at evenly spaced distances of 1 unit\n"
   ]
  },
  {
   "cell_type": "code",
   "execution_count": 160,
   "id": "8983d92b-4b3f-46c7-a2cf-aae4e3126261",
   "metadata": {},
   "outputs": [
    {
     "data": {
      "text/plain": [
       "5"
      ]
     },
     "execution_count": 160,
     "metadata": {},
     "output_type": "execute_result"
    }
   ],
   "source": [
    "import math\n",
    "def spider_to_fly(spider, fly):\n",
    "    angle_dict =  {'A':0,'B':1,'C':2,'D':3,'E':4,'F':5,'G':6,'H':7,}\n",
    "    spider_coord = (angle_dict[spider[0]],int(spider[1]))\n",
    "    fly_coord = (angle_dict[fly[0]],int(fly[1]))\n",
    "    angle = ((spider_coord[0]-fly_coord[0])%8) * 45\n",
    "     \n",
    "    \n",
    "    if angle < 180:\n",
    "        return math.sqrt(spider_coord[1]**2+fly_coord[1]**2-2*spider_coord[1]*fly_coord[1]*math.cos(math.radians(angle)))\n",
    "    elif angle == 0:\n",
    "        return abs(spider_coord[1] - fly_coord[1])\n",
    "    elif angle == 180:\n",
    "        return spider_coord[1] + fly_coord[1]\n",
    "\n",
    "spider_to_fly(\"H2\", \"D3\")"
   ]
  },
  {
   "cell_type": "markdown",
   "id": "e89daacc-ced8-4068-b8a2-9d1967545ad9",
   "metadata": {},
   "source": [
    "# ROT13\n",
    "https://www.codewars.com/kata/530e15517bc88ac656000716/train/python \\\n",
    "Description:\n",
    "\n",
    "ROT13 is a simple letter substitution cipher that replaces a letter with the letter 13 letters after it in the alphabet. ROT13 is an example of the Caesar cipher.\n",
    "\n",
    "Create a function that takes a string and returns the string ciphered with Rot13. If there are numbers or special characters included in the string, they should be returned as they are. Only letters from the latin/english alphabet should be shifted, like in the original Rot13 \"implementation\".\n",
    "\n",
    "Please note that using encode is considered cheating.\n"
   ]
  },
  {
   "cell_type": "code",
   "execution_count": 178,
   "id": "3ed9642e-e6c5-4966-b016-f927fa263516",
   "metadata": {},
   "outputs": [
    {
     "data": {
      "text/plain": [
       "'lByb'"
      ]
     },
     "execution_count": 178,
     "metadata": {},
     "output_type": "execute_result"
    }
   ],
   "source": [
    "import re\n",
    "\n",
    "def rot13(message):\n",
    "    alphabet = \"abcdefghijklmnopqrstuvwxyz\"\n",
    "    upperAlphabet = \"ABCDEFGHIJKLMNOPQRSTUVWXYZ\"\n",
    "    ciphertext = [alphabet[(alphabet.index(i)+13)%26] if i in alphabet else i for i in message]\n",
    "    ciphertext = [upperAlphabet[(upperAlphabet.index(i)+13)%26] if i in upperAlphabet else i for i in ciphertext]\n",
    "    return ''.join(ciphertext)\n",
    "\n",
    "rot13(\"yOlo\")"
   ]
  },
  {
   "cell_type": "markdown",
   "id": "e832d85d-ceb3-41bb-bbef-5ad805304398",
   "metadata": {},
   "source": [
    "# Smoke Signals\n",
    "https://www.codewars.com/kata/62a3855fcaec090025ed2a9a \\\n",
    "Description:\n",
    "\n",
    "Sergeant Ryan is a soldier in the orange army, fighting a war against the green army. One day, while out on patrol, Ryan notices smoke signals being used in the forest, presumably by green soldiers. Ryan never enjoyed solving cryptography problems in school, so that's why he needs your help to decode the signals.\n",
    "\n",
    "The smoke signals come in the form of puffs of smoke, followed by a gap of clear air. There may be multiple sequences of puffs before the message ends. Ryan has concluded that the time between puffs of smoke is not important, so he writes down the sequences of puffs, separated by dots, such as:\n",
    "\n",
    "5         (5 puffs of smoke)\n",
    "3.4       (3 puffs followed by 4 puffs)\n",
    "2.1.2.4   (2 puffs, 1 puff, 2 puffs, 4 puffs)\n",
    "\n",
    "All of the smoke signals are transmitted in the morning, and they correspond to events that happen later in the day. Ryan believes that each signal directly corresponds to an event that occurs later that day. For example:\n",
    "\n",
    "signals = [\"2.1\",\"3\"]\n",
    "events = [\"Ambush in the jungle\",\"Airstrike on camp golf\"]\n",
    "\n",
    "(Ryan knows that the signals 2.1 and 3 must correspond to the above events, but he doesn't know which one belongs to which - he'll need more information from another day's signals and events)\n",
    "\n",
    "Help Sergeant Ryan develop an algorithm to automatically decode the enemy smoke signals and return a dictionary that relates signals to events, for example:\n",
    "\n",
    "decoded = {\n",
    "  \"2.1\": \"Airstrike on camp golf\",\n",
    "  \"3\": \"Ambush in the jungle\"\n",
    "}\n",
    "\n",
    "Clarifications / Hints:\n",
    "\n",
    "    You will receive one or more day's worth of signals and events to process\n",
    "    Each smoke signal will correspond to exactly one event\n",
    "    Multiple types of signals may correspond to the same type of event\n",
    "    The ordering of events in a day does not necessarily follow the ordering of signals - if they did, Ryan would be able to solve this task without you!\n",
    "    All input will be correct and reasonable - you do not have to worry about edge cases\n",
    "    There will be no ambiguity about the results - you will always have enough information to perfectly decode the smoke signals\n",
    "    There are 60 random tests that consist of 4-12 unique signal types and up to 20 days worth of information. Your solution should be efficient enough to handle these tests.\n",
    "\n"
   ]
  },
  {
   "cell_type": "code",
   "execution_count": 20,
   "id": "0f80767c-9146-4a9a-b45d-6e6b25a6b14e",
   "metadata": {},
   "outputs": [
    {
     "data": {
      "text/plain": [
       "{'1': 'Ambush in the jungle',\n",
       " '4.3.4': 'Ambush in the jungle',\n",
       " '2.2': 'Orange army retreats',\n",
       " '6': 'Orange general goes on vacation',\n",
       " '9.3': 'Push into the mountains',\n",
       " '8.2.1': 'General assassinated'}"
      ]
     },
     "execution_count": 20,
     "metadata": {},
     "output_type": "execute_result"
    }
   ],
   "source": [
    "# days is a tuple containing the smoke signals and the events that occured\n",
    "# on a single day. Ex.\n",
    "# days = [\n",
    "#   ([\"4\",\"5.1\"],[\"Ambush in the jungle\",\"Orange army retreats\"]),\n",
    "#   ([\"4\",\"5.1\",\"3.2.1\"],[\"Tanks deployed\",\"Orange army retreats\",\"Ambush in the jungle\"]),\n",
    "#   ([\"5.1\"],[\"Orange army retreats\"])\n",
    "#]\n",
    "def remove_unambiguous_from_set(solution, sets):\n",
    "    pass\n",
    "            \n",
    "        \n",
    "    \n",
    "\n",
    "def add_unambiguous_signals_to_solution(solution,sets):\n",
    "    for day in sets:\n",
    "        for day2 in sets:\n",
    "            if day[0] != day2[0]:\n",
    "                tmp_inter_sign = day[0] & day2[0]\n",
    "                tmp_inter_mess = day[1] & day2[1]\n",
    "                tmp_diff_a_sign = day[0] - day2[0]\n",
    "                tmp_diff_a_mess = day[1] - day2[1]\n",
    "                if len(tmp_inter_sign) == 1 and len(tmp_inter_sign) == 1:\n",
    "                    solution[list(tmp_inter_sign)[0]] = list(tmp_inter_mess)[0]\n",
    "                if len(tmp_diff_a_sign) == 1 and len(tmp_diff_a_mess) == 1:\n",
    "                    solution[list(tmp_diff_a_sign)[0]] = list(tmp_diff_a_mess)[0]\n",
    "\n",
    "def decode_smoke_signals(days):\n",
    "    solution = {}\n",
    "    approximation_solution = {}\n",
    "    sets = []\n",
    "    for day in days:\n",
    "        sets.append([set(day[0]),set(day[1])])\n",
    "    \n",
    "    for day in days:\n",
    "        if len(day[0]) == 1: solution[day[0][0]] = day[1][0]\n",
    "    \n",
    "    add_unambiguous_signals_to_solution(solution,sets)\n",
    "    \n",
    "                    \n",
    "    return solution\n",
    "\n",
    "\n",
    "decode_smoke_signals(\n",
    "            [([\"8.2.1\",\"4.3.4\",\"1\"],[\"Ambush in the jungle\",\"General assassinated\",\"Ambush in the jungle\"]),\n",
    "            ([\"1\",\"2.2\",\"9.3\"],[\"Ambush in the jungle\",\"Orange army  retreats\",\"Push into the mountains\"]),\n",
    "            ([\"4.3.4\",\"6\"],[\"Ambush in the jungle\",\"Orange general goes on vacation\"]),\n",
    "            ([\"8.2.1\",\"9.3\",\"1\"],[\"Ambush in the jungle\",\"General assassinated\",\"Push into the mountains\"])]\n",
    "        )"
   ]
  },
  {
   "cell_type": "markdown",
   "id": "f66f3401-8610-46d5-a13e-f7a473f95756",
   "metadata": {},
   "source": [
    "# Isograms\n",
    "https://www.codewars.com/kata/54ba84be607a92aa900000f1 \\\n",
    "An isogram is a word that has no repeating letters, consecutive or non-consecutive. Implement a function that determines whether a string that contains only letters is an isogram. Assume the empty string is an isogram. Ignore letter case.\n",
    "\n",
    "Example: (Input --> Output)\n",
    "\n",
    "\"Dermatoglyphics\" --> true\n",
    "\"aba\" --> false\n",
    "\"moOse\" --> false (ignore letter case)\n",
    "\n"
   ]
  },
  {
   "cell_type": "code",
   "execution_count": 2,
   "id": "09b11bfc-903c-4ff2-aa6f-a52f51129f25",
   "metadata": {},
   "outputs": [
    {
     "data": {
      "text/plain": [
       "False"
      ]
     },
     "execution_count": 2,
     "metadata": {},
     "output_type": "execute_result"
    }
   ],
   "source": [
    "def is_isogram(string):\n",
    "    used = \"\"\n",
    "    for x in string.lower():\n",
    "        if x in used: return False\n",
    "        else: used += x\n",
    "    return True\n",
    "\n",
    "is_isogram(\"hello\")"
   ]
  },
  {
   "cell_type": "markdown",
   "id": "97a39097-e5b3-402c-881e-911ba8d7b541",
   "metadata": {},
   "source": [
    "# Unique Strings\n",
    "https://www.codewars.com/kata/586c7cd3b98de02ef60001ab \\\n",
    "Given a string that contains only letters, you have to find out the number of unique strings (including the string itself) that can be produced by re-arranging the letters of the string. Strings are case insensitive.\n",
    "\n",
    "HINT: Generating all the unique strings and calling length on that isn't a great solution for this problem. It can be done a lot faster...\n",
    "Examples\n",
    "\n",
    "uniqcount(\"AB\") = 2      # \"AB\", \"BA\"\n",
    "uniqcount(\"ABC\") = 6     # \"ABC\", \"ACB\", \"BAC\", \"BCA\", \"CAB\", \"CBA\"\n",
    "uniqcount(\"ABA\") = 3     # \"AAB\", \"ABA\", \"BAA\"\n",
    "uniqcount(\"ABBb\") = 4    # \"ABBB\", \"BABB\", \"BBAB\", \"BBBA\"\n",
    "uniqcount(\"AbcD\") = 24   # \"ABCD\", etc.\n"
   ]
  },
  {
   "cell_type": "code",
   "execution_count": 5,
   "id": "ccf22af0-d2a1-495f-905b-8506b555e194",
   "metadata": {},
   "outputs": [
    {
     "data": {
      "text/plain": [
       "6"
      ]
     },
     "execution_count": 5,
     "metadata": {},
     "output_type": "execute_result"
    }
   ],
   "source": [
    "def uniq_count(s):\n",
    "    se = set(s.lower())\n",
    "    duplicates_variations = len(s) - len(se)\n",
    "    \n",
    "    count = 1\n",
    "    for x in range(len(se)):\n",
    "        count *= x+1    \n",
    "    return count if duplicates_variations <= 1 else count + duplicates_variations\n",
    "\n",
    "uniq_count(\"aadddd\")"
   ]
  },
  {
   "cell_type": "code",
   "execution_count": 112,
   "id": "dc4e1830-510f-4306-8a33-5797fbf4e80a",
   "metadata": {},
   "outputs": [
    {
     "data": {
      "text/plain": [
       "3011717"
      ]
     },
     "execution_count": 112,
     "metadata": {},
     "output_type": "execute_result"
    }
   ],
   "source": [
    "import random\n",
    "import math\n",
    "import time\n",
    "\n",
    "\n",
    "def uniq_count(s):\n",
    "    combinations = {}\n",
    "    liste = list(s.lower())\n",
    "    t0 = time.time()\n",
    "    while t0+11> time.time():\n",
    "        random.shuffle(liste)\n",
    "        tmp = ''.join(liste)\n",
    "        combinations.add(tmp)\n",
    "    return len(combinations)\n",
    "\n",
    "uniq_count(\"abcdefghijklmnop\")\n",
    "          "
   ]
  },
  {
   "cell_type": "markdown",
   "id": "ca04bdab-3edb-49c7-bbf1-973bb510803d",
   "metadata": {},
   "source": [
    "# Binary Bunch Transform of an Integer\n",
    "https://www.codewars.com/kata/62cc5882ea688d00428ad2b0 \\\n",
    "Overview\n",
    "\n",
    "Given an integer, n, consider its binary representation - I shall call a binary bunching of n any rearrangement of the bits of n such that all set bits are contiguous (i.e. all its 1s are side-by-side when viewed as a string).\n",
    "\n",
    "There are many possible ways of binary bunching the bits of n; for each possible way, we can calculate its bunching cost - this is the number of bit flips necessary to reach the final binary number from the initial value of n.\n",
    "\n",
    "An example will make all this clear:\n",
    "\n",
    "If we take n = 52 then in binary n = 110100. We see that there are 6 bits in the binary representation n = 110100.\n",
    "\n",
    "There are only 4 possible ways to binary bunch rearrange these 6 bits of n = 110100, listed here with the number of bit flips necessary to do so in each case:\n",
    "\n",
    "    110100 -> 000111, requires flipping 1st, 2nd, 5th, 6th bits, so total bunching cost = 4\n",
    "\n",
    "    110100 -> 001110, requires flipping 2nd, 4th, 5th, 6th bits, so total bunching cost = 4\n",
    "\n",
    "    110100 -> 011100, requires flipping 4th, 6th bits, so total bunching cost = 2\n",
    "\n",
    "    110100 -> 111000, requires flipping 3rd, 4th bits, so total bunching cost = 2\n",
    "\n",
    "Finally, we shall call the Binary Bunch Transform of n the smallest number among all possible numbers which have the lowest possible bunching cost.\n",
    "\n",
    "So returning to the above example, of the 4 possible ways of binary bunching n = 52 = 110100, the lowest possible bunching cost is 2 and of two possible numbers that shared this minimum bunching cost (111000 = 56, and 011100 = 28) the smallest is 28.\n",
    "\n",
    "Therefore bunch(52) = 28.\n",
    "Inputs and Outputs\n",
    "\n",
    "You will be given a positive integer, n > 0.\n",
    "\n",
    "Values of n up to 2**32 will be tested (depending on language).\n",
    "\n",
    "You must return an integer, the Binary Bunch Transform of n as defined above.\n",
    "Further examples with small values\n",
    "\n",
    "Here are some further small examples you can check by hand if you want, before coding your solution.\n",
    "\n",
    "n = 19 = 10011 -> transforms to 00111 in 2 bit flips, which is the smallest number of bit flips needed to get all 1s bunched together. 00111 is the smallest bunched binary number that can be reached in 2 bit flips starting from n = 19 = 10011. 00111 represents the integer 7 so bunch(19) = 7.\n",
    "\n",
    "n = 49 = 110001 -> transforms to 111000 in 2 bit flips, which is the smallest number of bit flips needed to get all 1s bunched together. 111000 is the smallest bunched binary number that can be reached in 2 bit flips starting from n = 49 = 110001.111000 represents the integer 56 so bunch(49) = 56.\n"
   ]
  },
  {
   "cell_type": "code",
   "execution_count": 17,
   "id": "751102e8-17eb-4d3a-a7bc-64a375dd4a9e",
   "metadata": {},
   "outputs": [
    {
     "name": "stdout",
     "output_type": "stream",
     "text": [
      "3 7\n",
      "131 0b10000011\n"
     ]
    }
   ],
   "source": [
    "# return an integer\n",
    "def bunch(n):\n",
    "    bin_num = bin(n)[2:]\n",
    "    ones = bin_num.count('1')\n",
    "    zeros = bin_num.count('0')\n",
    "    new_number = ['1' for one in ones]\n",
    "    \n",
    "    print(ones, zeros)\n",
    "    while n % 2 == 0:\n",
    "        n = n >> 1\n",
    "        \n",
    "    print(n, bin(n))\n",
    "        \n",
    "        \n",
    "\n",
    "bunch(524)"
   ]
  }
 ],
 "metadata": {
  "kernelspec": {
   "display_name": "Python 3 (ipykernel)",
   "language": "python",
   "name": "python3"
  },
  "language_info": {
   "codemirror_mode": {
    "name": "ipython",
    "version": 3
   },
   "file_extension": ".py",
   "mimetype": "text/x-python",
   "name": "python",
   "nbconvert_exporter": "python",
   "pygments_lexer": "ipython3",
   "version": "3.12.3"
  }
 },
 "nbformat": 4,
 "nbformat_minor": 5
}
